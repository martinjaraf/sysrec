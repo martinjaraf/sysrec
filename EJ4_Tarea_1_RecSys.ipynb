{
  "cells": [
    {
      "cell_type": "code",
      "execution_count": 2,
      "metadata": {
        "id": "b5BNC-sOCggT"
      },
      "outputs": [],
      "source": [
        "import pandas as pd\n",
        "import matplotlib.pyplot as plt\n",
        "import numpy as np\n",
        "from sklearn.decomposition import PCA\n",
        "from scipy.spatial.distance import euclidean, cosine, cityblock\n",
        "import tensorflow as tf\n",
        "import tensorflow_hub as hub\n",
        "from google.colab import drive\n",
        "from tqdm import tqdm"
      ]
    },
    {
      "cell_type": "code",
      "execution_count": 3,
      "metadata": {
        "id": "e4qwz0UiC27S"
      },
      "outputs": [],
      "source": [
        "embed = hub.load(\"https://tfhub.dev/google/universal-sentence-encoder/4\")"
      ]
    },
    {
      "cell_type": "code",
      "execution_count": 4,
      "metadata": {
        "colab": {
          "base_uri": "https://localhost:8080/"
        },
        "id": "01_cwRLIA7hq",
        "outputId": "332fe896-b7b0-4acd-ae23-41136949033d"
      },
      "outputs": [
        {
          "output_type": "stream",
          "name": "stdout",
          "text": [
            "Drive already mounted at /content/drive; to attempt to forcibly remount, call drive.mount(\"/content/drive\", force_remount=True).\n"
          ]
        }
      ],
      "source": [
        "drive.mount('/content/drive')"
      ]
    },
    {
      "cell_type": "code",
      "execution_count": 5,
      "metadata": {
        "id": "zjJxCVkbqMaL"
      },
      "outputs": [],
      "source": [
        "articles = '/content/drive/MyDrive/Colab Notebooks/articles.xlsx'\n",
        "customers = '/content/drive/MyDrive/Colab Notebooks/users_test.xlsx'\n",
        "transaction_val = '/content/drive/MyDrive/Colab Notebooks/transactions_val.xlsx'\n",
        "users_test = '/content/drive/MyDrive/Colab Notebooks/users_test.xlsx'\n",
        "transactions_train = '/content/drive/MyDrive/Colab Notebooks/transactions_train.csv'"
      ]
    },
    {
      "cell_type": "code",
      "execution_count": 6,
      "metadata": {
        "id": "ExpOUNUKsyN5"
      },
      "outputs": [],
      "source": [
        "df_articles = pd.read_excel(articles)\n",
        "# df_customers = pd.read_excel(customers)\n",
        "df_transaction_val = pd.read_excel(transaction_val)\n",
        "# df_users_test = pd.read_excel(users_test)\n",
        "df_transaction_train = pd.read_csv(transactions_train)"
      ]
    },
    {
      "cell_type": "code",
      "execution_count": 7,
      "metadata": {
        "colab": {
          "base_uri": "https://localhost:8080/"
        },
        "id": "wv_UGnNwERNz",
        "outputId": "620f40f7-dd75-4aa5-9009-4da0907dd50b"
      },
      "outputs": [
        {
          "output_type": "stream",
          "name": "stdout",
          "text": [
            "(1318501, 6)\n",
            "(500000, 6)\n"
          ]
        }
      ],
      "source": [
        "print(df_transaction_train.shape)\n",
        "df_train = df_transaction_train.sample(500000)\n",
        "print(df_train.shape)"
      ]
    },
    {
      "cell_type": "code",
      "execution_count": 8,
      "metadata": {
        "colab": {
          "base_uri": "https://localhost:8080/"
        },
        "id": "hl8VZoPoGVOW",
        "outputId": "f3dd8aad-df95-41a3-ddc2-beb805318dfe"
      },
      "outputs": [
        {
          "output_type": "stream",
          "name": "stdout",
          "text": [
            "(77650, 18)\n",
            "(77364, 18)\n"
          ]
        }
      ],
      "source": [
        "print(df_articles.shape)\n",
        "df_articles.dropna(inplace=True)\n",
        "print(df_articles.shape)"
      ]
    },
    {
      "cell_type": "code",
      "execution_count": 9,
      "metadata": {
        "colab": {
          "base_uri": "https://localhost:8080/"
        },
        "id": "WjIYvrU_IAc1",
        "outputId": "64a86209-dc29-4be9-ca7a-07c063a93a1c"
      },
      "outputs": [
        {
          "output_type": "execute_result",
          "data": {
            "text/plain": [
              "0    108775015\n",
              "1    108775044\n",
              "Name: article_id, dtype: int64"
            ]
          },
          "metadata": {},
          "execution_count": 9
        }
      ],
      "source": [
        "article_index = df_articles.reset_index()[\"article_id\"].astype(int)\n",
        "article_index.head(2)"
      ]
    },
    {
      "cell_type": "code",
      "execution_count": 10,
      "metadata": {
        "colab": {
          "base_uri": "https://localhost:8080/"
        },
        "id": "eh-hDWD6LQT_",
        "outputId": "d19914c9-bd36-4400-bb03-b6d654e3e053"
      },
      "outputs": [
        {
          "output_type": "execute_result",
          "data": {
            "text/plain": [
              "(77364, 512)"
            ]
          },
          "metadata": {},
          "execution_count": 10
        }
      ],
      "source": [
        "descriptions = df_articles[\"detail_desc\"].astype(str).tolist()\n",
        "descriptions_tensor = tf.convert_to_tensor(descriptions)\n",
        "embeddings = embed(descriptions)\n",
        "embeddings_df = pd.DataFrame(embeddings.numpy())\n",
        "embeddings_df.shape"
      ]
    },
    {
      "cell_type": "code",
      "execution_count": 11,
      "metadata": {
        "colab": {
          "base_uri": "https://localhost:8080/",
          "height": 143
        },
        "id": "-VJXOMrAm64S",
        "outputId": "3a4802b0-9119-4afa-dc32-54afdeed9524"
      },
      "outputs": [
        {
          "output_type": "execute_result",
          "data": {
            "text/plain": [
              "                                         customer_id  article_id\n",
              "0  1f293f035403ce2d1ff0cdb23cc3faf8b1c2ad04dbedbe...   655265001\n",
              "1  1f293f035403ce2d1ff0cdb23cc3faf8b1c2ad04dbedbe...   537688014\n",
              "2  1f293f035403ce2d1ff0cdb23cc3faf8b1c2ad04dbedbe...   698877002"
            ],
            "text/html": [
              "\n",
              "  <div id=\"df-917bec38-6a26-47da-bff8-1818a4b9a18a\" class=\"colab-df-container\">\n",
              "    <div>\n",
              "<style scoped>\n",
              "    .dataframe tbody tr th:only-of-type {\n",
              "        vertical-align: middle;\n",
              "    }\n",
              "\n",
              "    .dataframe tbody tr th {\n",
              "        vertical-align: top;\n",
              "    }\n",
              "\n",
              "    .dataframe thead th {\n",
              "        text-align: right;\n",
              "    }\n",
              "</style>\n",
              "<table border=\"1\" class=\"dataframe\">\n",
              "  <thead>\n",
              "    <tr style=\"text-align: right;\">\n",
              "      <th></th>\n",
              "      <th>customer_id</th>\n",
              "      <th>article_id</th>\n",
              "    </tr>\n",
              "  </thead>\n",
              "  <tbody>\n",
              "    <tr>\n",
              "      <th>0</th>\n",
              "      <td>1f293f035403ce2d1ff0cdb23cc3faf8b1c2ad04dbedbe...</td>\n",
              "      <td>655265001</td>\n",
              "    </tr>\n",
              "    <tr>\n",
              "      <th>1</th>\n",
              "      <td>1f293f035403ce2d1ff0cdb23cc3faf8b1c2ad04dbedbe...</td>\n",
              "      <td>537688014</td>\n",
              "    </tr>\n",
              "    <tr>\n",
              "      <th>2</th>\n",
              "      <td>1f293f035403ce2d1ff0cdb23cc3faf8b1c2ad04dbedbe...</td>\n",
              "      <td>698877002</td>\n",
              "    </tr>\n",
              "  </tbody>\n",
              "</table>\n",
              "</div>\n",
              "    <div class=\"colab-df-buttons\">\n",
              "\n",
              "  <div class=\"colab-df-container\">\n",
              "    <button class=\"colab-df-convert\" onclick=\"convertToInteractive('df-917bec38-6a26-47da-bff8-1818a4b9a18a')\"\n",
              "            title=\"Convert this dataframe to an interactive table.\"\n",
              "            style=\"display:none;\">\n",
              "\n",
              "  <svg xmlns=\"http://www.w3.org/2000/svg\" height=\"24px\" viewBox=\"0 -960 960 960\">\n",
              "    <path d=\"M120-120v-720h720v720H120Zm60-500h600v-160H180v160Zm220 220h160v-160H400v160Zm0 220h160v-160H400v160ZM180-400h160v-160H180v160Zm440 0h160v-160H620v160ZM180-180h160v-160H180v160Zm440 0h160v-160H620v160Z\"/>\n",
              "  </svg>\n",
              "    </button>\n",
              "\n",
              "  <style>\n",
              "    .colab-df-container {\n",
              "      display:flex;\n",
              "      gap: 12px;\n",
              "    }\n",
              "\n",
              "    .colab-df-convert {\n",
              "      background-color: #E8F0FE;\n",
              "      border: none;\n",
              "      border-radius: 50%;\n",
              "      cursor: pointer;\n",
              "      display: none;\n",
              "      fill: #1967D2;\n",
              "      height: 32px;\n",
              "      padding: 0 0 0 0;\n",
              "      width: 32px;\n",
              "    }\n",
              "\n",
              "    .colab-df-convert:hover {\n",
              "      background-color: #E2EBFA;\n",
              "      box-shadow: 0px 1px 2px rgba(60, 64, 67, 0.3), 0px 1px 3px 1px rgba(60, 64, 67, 0.15);\n",
              "      fill: #174EA6;\n",
              "    }\n",
              "\n",
              "    .colab-df-buttons div {\n",
              "      margin-bottom: 4px;\n",
              "    }\n",
              "\n",
              "    [theme=dark] .colab-df-convert {\n",
              "      background-color: #3B4455;\n",
              "      fill: #D2E3FC;\n",
              "    }\n",
              "\n",
              "    [theme=dark] .colab-df-convert:hover {\n",
              "      background-color: #434B5C;\n",
              "      box-shadow: 0px 1px 3px 1px rgba(0, 0, 0, 0.15);\n",
              "      filter: drop-shadow(0px 1px 2px rgba(0, 0, 0, 0.3));\n",
              "      fill: #FFFFFF;\n",
              "    }\n",
              "  </style>\n",
              "\n",
              "    <script>\n",
              "      const buttonEl =\n",
              "        document.querySelector('#df-917bec38-6a26-47da-bff8-1818a4b9a18a button.colab-df-convert');\n",
              "      buttonEl.style.display =\n",
              "        google.colab.kernel.accessAllowed ? 'block' : 'none';\n",
              "\n",
              "      async function convertToInteractive(key) {\n",
              "        const element = document.querySelector('#df-917bec38-6a26-47da-bff8-1818a4b9a18a');\n",
              "        const dataTable =\n",
              "          await google.colab.kernel.invokeFunction('convertToInteractive',\n",
              "                                                    [key], {});\n",
              "        if (!dataTable) return;\n",
              "\n",
              "        const docLinkHtml = 'Like what you see? Visit the ' +\n",
              "          '<a target=\"_blank\" href=https://colab.research.google.com/notebooks/data_table.ipynb>data table notebook</a>'\n",
              "          + ' to learn more about interactive tables.';\n",
              "        element.innerHTML = '';\n",
              "        dataTable['output_type'] = 'display_data';\n",
              "        await google.colab.output.renderOutput(dataTable, element);\n",
              "        const docLink = document.createElement('div');\n",
              "        docLink.innerHTML = docLinkHtml;\n",
              "        element.appendChild(docLink);\n",
              "      }\n",
              "    </script>\n",
              "  </div>\n",
              "\n",
              "\n",
              "<div id=\"df-1a81c2e6-05bf-4b62-9b79-79524d1fb112\">\n",
              "  <button class=\"colab-df-quickchart\" onclick=\"quickchart('df-1a81c2e6-05bf-4b62-9b79-79524d1fb112')\"\n",
              "            title=\"Suggest charts\"\n",
              "            style=\"display:none;\">\n",
              "\n",
              "<svg xmlns=\"http://www.w3.org/2000/svg\" height=\"24px\"viewBox=\"0 0 24 24\"\n",
              "     width=\"24px\">\n",
              "    <g>\n",
              "        <path d=\"M19 3H5c-1.1 0-2 .9-2 2v14c0 1.1.9 2 2 2h14c1.1 0 2-.9 2-2V5c0-1.1-.9-2-2-2zM9 17H7v-7h2v7zm4 0h-2V7h2v10zm4 0h-2v-4h2v4z\"/>\n",
              "    </g>\n",
              "</svg>\n",
              "  </button>\n",
              "\n",
              "<style>\n",
              "  .colab-df-quickchart {\n",
              "      --bg-color: #E8F0FE;\n",
              "      --fill-color: #1967D2;\n",
              "      --hover-bg-color: #E2EBFA;\n",
              "      --hover-fill-color: #174EA6;\n",
              "      --disabled-fill-color: #AAA;\n",
              "      --disabled-bg-color: #DDD;\n",
              "  }\n",
              "\n",
              "  [theme=dark] .colab-df-quickchart {\n",
              "      --bg-color: #3B4455;\n",
              "      --fill-color: #D2E3FC;\n",
              "      --hover-bg-color: #434B5C;\n",
              "      --hover-fill-color: #FFFFFF;\n",
              "      --disabled-bg-color: #3B4455;\n",
              "      --disabled-fill-color: #666;\n",
              "  }\n",
              "\n",
              "  .colab-df-quickchart {\n",
              "    background-color: var(--bg-color);\n",
              "    border: none;\n",
              "    border-radius: 50%;\n",
              "    cursor: pointer;\n",
              "    display: none;\n",
              "    fill: var(--fill-color);\n",
              "    height: 32px;\n",
              "    padding: 0;\n",
              "    width: 32px;\n",
              "  }\n",
              "\n",
              "  .colab-df-quickchart:hover {\n",
              "    background-color: var(--hover-bg-color);\n",
              "    box-shadow: 0 1px 2px rgba(60, 64, 67, 0.3), 0 1px 3px 1px rgba(60, 64, 67, 0.15);\n",
              "    fill: var(--button-hover-fill-color);\n",
              "  }\n",
              "\n",
              "  .colab-df-quickchart-complete:disabled,\n",
              "  .colab-df-quickchart-complete:disabled:hover {\n",
              "    background-color: var(--disabled-bg-color);\n",
              "    fill: var(--disabled-fill-color);\n",
              "    box-shadow: none;\n",
              "  }\n",
              "\n",
              "  .colab-df-spinner {\n",
              "    border: 2px solid var(--fill-color);\n",
              "    border-color: transparent;\n",
              "    border-bottom-color: var(--fill-color);\n",
              "    animation:\n",
              "      spin 1s steps(1) infinite;\n",
              "  }\n",
              "\n",
              "  @keyframes spin {\n",
              "    0% {\n",
              "      border-color: transparent;\n",
              "      border-bottom-color: var(--fill-color);\n",
              "      border-left-color: var(--fill-color);\n",
              "    }\n",
              "    20% {\n",
              "      border-color: transparent;\n",
              "      border-left-color: var(--fill-color);\n",
              "      border-top-color: var(--fill-color);\n",
              "    }\n",
              "    30% {\n",
              "      border-color: transparent;\n",
              "      border-left-color: var(--fill-color);\n",
              "      border-top-color: var(--fill-color);\n",
              "      border-right-color: var(--fill-color);\n",
              "    }\n",
              "    40% {\n",
              "      border-color: transparent;\n",
              "      border-right-color: var(--fill-color);\n",
              "      border-top-color: var(--fill-color);\n",
              "    }\n",
              "    60% {\n",
              "      border-color: transparent;\n",
              "      border-right-color: var(--fill-color);\n",
              "    }\n",
              "    80% {\n",
              "      border-color: transparent;\n",
              "      border-right-color: var(--fill-color);\n",
              "      border-bottom-color: var(--fill-color);\n",
              "    }\n",
              "    90% {\n",
              "      border-color: transparent;\n",
              "      border-bottom-color: var(--fill-color);\n",
              "    }\n",
              "  }\n",
              "</style>\n",
              "\n",
              "  <script>\n",
              "    async function quickchart(key) {\n",
              "      const quickchartButtonEl =\n",
              "        document.querySelector('#' + key + ' button');\n",
              "      quickchartButtonEl.disabled = true;  // To prevent multiple clicks.\n",
              "      quickchartButtonEl.classList.add('colab-df-spinner');\n",
              "      try {\n",
              "        const charts = await google.colab.kernel.invokeFunction(\n",
              "            'suggestCharts', [key], {});\n",
              "      } catch (error) {\n",
              "        console.error('Error during call to suggestCharts:', error);\n",
              "      }\n",
              "      quickchartButtonEl.classList.remove('colab-df-spinner');\n",
              "      quickchartButtonEl.classList.add('colab-df-quickchart-complete');\n",
              "    }\n",
              "    (() => {\n",
              "      let quickchartButtonEl =\n",
              "        document.querySelector('#df-1a81c2e6-05bf-4b62-9b79-79524d1fb112 button');\n",
              "      quickchartButtonEl.style.display =\n",
              "        google.colab.kernel.accessAllowed ? 'block' : 'none';\n",
              "    })();\n",
              "  </script>\n",
              "</div>\n",
              "\n",
              "    </div>\n",
              "  </div>\n"
            ],
            "application/vnd.google.colaboratory.intrinsic+json": {
              "type": "dataframe",
              "variable_name": "df_transaction_train"
            }
          },
          "metadata": {},
          "execution_count": 11
        }
      ],
      "source": [
        "df_transaction_train.drop(labels=['Unnamed: 0', 't_dat', 'price', 'sales_channel_id'], axis=1, inplace=True)\n",
        "df_transaction_train.dropna(inplace=True)\n",
        "df_transaction_train[\"article_id\"] = df_transaction_train[\"article_id\"].astype(int)\n",
        "df_transaction_train.head(3)"
      ]
    },
    {
      "cell_type": "code",
      "source": [
        "pca10 = PCA(10)\n",
        "embeddings_pca10 = pca10.fit_transform(embeddings_df)\n",
        "pre_df10 = pd.DataFrame(embeddings_pca10)\n",
        "dfpca10 = pd.concat([article_index, pre_df10], axis=1)\n",
        "dfpca10.set_index('article_id', inplace=True)\n",
        "\n",
        "pca50 = PCA(50)\n",
        "embeddings_pca50 = pca50.fit_transform(embeddings_df)\n",
        "pre_df50 = pd.DataFrame(embeddings_pca50)\n",
        "dfpca50 = pd.concat([article_index, pre_df50], axis=1)\n",
        "dfpca50.set_index('article_id', inplace=True)\n",
        "\n",
        "pca100 = PCA(100)\n",
        "embeddings_pca100 = pca100.fit_transform(embeddings_df)\n",
        "pre_df100 = pd.DataFrame(embeddings_pca100)\n",
        "dfpca100 = pd.concat([article_index, pre_df100], axis=1)\n",
        "dfpca100.set_index('article_id', inplace=True)"
      ],
      "metadata": {
        "id": "jDKeS1MRMR8C"
      },
      "execution_count": 12,
      "outputs": []
    },
    {
      "cell_type": "code",
      "execution_count": 13,
      "metadata": {
        "id": "Tyvp5j8b548l"
      },
      "outputs": [],
      "source": [
        "vectorize10 = df_transaction_train.merge(dfpca10, left_on='article_id', right_on='article_id')\n",
        "vectorize10 = vectorize10.groupby('customer_id').sum()/vectorize10.groupby(\"customer_id\").count()\n",
        "vectorize10.drop(\"article_id\", axis=1, inplace=True)\n",
        "\n",
        "vectorize50 = df_transaction_train.merge(dfpca50, left_on='article_id', right_on='article_id')\n",
        "vectorize50 = vectorize50.groupby('customer_id').sum()/vectorize50.groupby(\"customer_id\").count()\n",
        "vectorize50.drop(\"article_id\", axis=1, inplace=True)\n",
        "\n",
        "vectorize100 = df_transaction_train.merge(dfpca100, left_on='article_id', right_on='article_id')\n",
        "vectorize100 = vectorize100.groupby('customer_id').sum()/vectorize100.groupby(\"customer_id\").count()\n",
        "vectorize100.drop(\"article_id\", axis=1, inplace=True)"
      ]
    },
    {
      "cell_type": "code",
      "execution_count": 14,
      "metadata": {
        "id": "9suM5dM_Gp5W"
      },
      "outputs": [],
      "source": [
        "def recommend(dfpca, user, topk, metric):\n",
        "  if metric == \"euclideana\":\n",
        "    dfpca[\"distance\"] = np.linalg.norm(dfpca.values - user.values, axis=1)\n",
        "  elif metric == \"coseno\":\n",
        "      dfpca_norm = np.linalg.norm(dfpca.values, axis=1)\n",
        "      user_norm = np.linalg.norm(user.values)\n",
        "      cosine_similarity = np.dot(dfpca.values, user.values) / (dfpca_norm * user_norm)\n",
        "      dfpca[\"distance\"] = 1 - cosine_similarity\n",
        "  elif metric == \"manhattan\":\n",
        "      dfpca[\"distance\"] = np.sum(np.abs(dfpca.values - user.values), axis=1)\n",
        "\n",
        "  dfpca= dfpca.sort_values(\"distance\", ascending=True)\n",
        "  topkr = dfpca.iloc[0:topk]\n",
        "  dfpca.drop(labels=['distance'], axis=1, inplace=True)\n",
        "\n",
        "  return list(topkr.reset_index()['article_id'].astype(int))"
      ]
    },
    {
      "cell_type": "code",
      "execution_count": 15,
      "metadata": {
        "id": "PhBgFx7P-ByQ"
      },
      "outputs": [],
      "source": [
        "# Métricas de evaluación\n",
        "# Obtenido de https://gist.github.com/bwhite/3726239\n",
        "\n",
        "def precision_at_k(r, k):\n",
        "    assert k >= 1\n",
        "    r = np.asarray(r)[:k] != 0\n",
        "    if r.size != k:\n",
        "        raise ValueError('Relevance score length < k')\n",
        "    return np.mean(r)\n",
        "\n",
        "def average_precision(r):\n",
        "    r = np.asarray(r) != 0\n",
        "    out = [precision_at_k(r, k + 1) for k in range(r.size) if r[k]]\n",
        "    if not out:\n",
        "        return 0.\n",
        "    return np.mean(out)\n",
        "\n",
        "def mean_average_precision(rs):\n",
        "    return np.mean([average_precision(r) for r in rs])\n",
        "\n",
        "def dcg_at_k(r, k):\n",
        "    r = np.asfarray(r)[:k]\n",
        "    if r.size:\n",
        "        return np.sum(np.subtract(np.power(2, r), 1) / np.log2(np.arange(2, r.size + 2)))\n",
        "    return 0.\n",
        "\n",
        "def ndcg_at_k(r, k):\n",
        "    idcg = dcg_at_k(sorted(r, reverse=True), k)\n",
        "\n",
        "    if not idcg:\n",
        "        return 0.\n",
        "    return dcg_at_k(r, k) / idcg\n",
        "\n",
        "def recall_at_k(r, k):\n",
        "    r = np.asarray(r)[:k] != 0\n",
        "    if np.sum(r) == 0:\n",
        "        return 0.\n",
        "    return np.sum(r) / np.sum(r != 0)"
      ]
    },
    {
      "cell_type": "code",
      "source": [
        "print(df_transaction_val.shape)\n",
        "df_val_min = df_transaction_val.sample(5000)\n",
        "print(df_val_min.shape)"
      ],
      "metadata": {
        "colab": {
          "base_uri": "https://localhost:8080/"
        },
        "id": "y5k7Tl7OA1_m",
        "outputId": "c5a237a4-26a0-4f55-8824-141596c4e6ca"
      },
      "execution_count": 16,
      "outputs": [
        {
          "output_type": "stream",
          "name": "stdout",
          "text": [
            "(140312, 6)\n",
            "(5000, 6)\n"
          ]
        }
      ]
    },
    {
      "cell_type": "code",
      "execution_count": 17,
      "metadata": {
        "id": "i7SS8a4ddAUf"
      },
      "outputs": [],
      "source": [
        "user_items = {}\n",
        "\n",
        "for row in df_val_min.itertuples():\n",
        "    if row[3] not in user_items:\n",
        "        user_items[row[3]] = []\n",
        "\n",
        "    user_items[row[3]].append(row[4])"
      ]
    },
    {
      "cell_type": "code",
      "source": [
        "# vectorize: users\n",
        "# pca: items\n",
        "\n",
        "def evaluate_model(dfpca, vectorize, metric):\n",
        "  mean_map = 0.\n",
        "  mean_ndcg = 0.\n",
        "  mean_recall = 0.\n",
        "  for index_user in tqdm(user_items):\n",
        "    if index_user in vectorize.index:\n",
        "      rec = recommend(dfpca, vectorize.loc[index_user], 10, metric)\n",
        "      dfpca.drop(labels=['distance'], axis=1, inplace=True)\n",
        "      rel_vector = [np.isin(user_items[vectorize.loc[index_user].name], rec, assume_unique=True).astype(int)]\n",
        "      mean_map += mean_average_precision(rel_vector)\n",
        "      mean_ndcg += ndcg_at_k(rel_vector, 10)\n",
        "      mean_recall += recall_at_k(rel_vector, 10)\n",
        "\n",
        "  mean_map /= len(user_items)\n",
        "  mean_ndcg /= len(user_items)\n",
        "  mean_recall /= len(user_items)\n",
        "\n",
        "  return mean_map, mean_ndcg, mean_recall"
      ],
      "metadata": {
        "id": "ExhfTdsomgjd"
      },
      "execution_count": 18,
      "outputs": []
    },
    {
      "cell_type": "code",
      "execution_count": 19,
      "metadata": {
        "id": "pTBu1WcjlMy4"
      },
      "outputs": [],
      "source": [
        "metrics = {}"
      ]
    },
    {
      "cell_type": "code",
      "execution_count": 20,
      "metadata": {
        "colab": {
          "base_uri": "https://localhost:8080/"
        },
        "id": "EV2GlOV5GeeV",
        "outputId": "765a0b9e-1fd8-4d76-c355-23d422039ab9"
      },
      "outputs": [
        {
          "output_type": "stream",
          "name": "stderr",
          "text": [
            "100%|██████████| 4641/4641 [01:50<00:00, 41.84it/s]\n"
          ]
        }
      ],
      "source": [
        "mean_map, mean_ndcg, mean_recall = evaluate_model(dfpca10, vectorize10, \"euclideana\")\n",
        "metrics[10, \"Euclideana\"] = mean_map, mean_ndcg, mean_recall"
      ]
    },
    {
      "cell_type": "code",
      "execution_count": 21,
      "metadata": {
        "id": "lhwbmRaQGffO",
        "colab": {
          "base_uri": "https://localhost:8080/"
        },
        "outputId": "1c61f4bf-7957-4df8-9070-ac06e1399836"
      },
      "outputs": [
        {
          "output_type": "stream",
          "name": "stderr",
          "text": [
            "100%|██████████| 4641/4641 [02:30<00:00, 30.86it/s]\n"
          ]
        }
      ],
      "source": [
        "mean_map, mean_ndcg, mean_recall = evaluate_model(dfpca10, vectorize10, \"coseno\")\n",
        "metrics[10, \"Coseno\"] = mean_map, mean_ndcg, mean_recall"
      ]
    },
    {
      "cell_type": "code",
      "execution_count": 22,
      "metadata": {
        "id": "gKHQRzuRGf8d",
        "colab": {
          "base_uri": "https://localhost:8080/"
        },
        "outputId": "7013c518-8c17-4a17-d5a5-94293fa11a2a"
      },
      "outputs": [
        {
          "output_type": "stream",
          "name": "stderr",
          "text": [
            "100%|██████████| 4641/4641 [01:45<00:00, 43.78it/s]\n"
          ]
        }
      ],
      "source": [
        "mean_map, mean_ndcg, mean_recall = evaluate_model(dfpca10, vectorize10, \"manhattan\")\n",
        "metrics[10, \"Manhattan\"] = mean_map, mean_ndcg, mean_recall"
      ]
    },
    {
      "cell_type": "code",
      "source": [
        "mean_map, mean_ndcg, mean_recall = evaluate_model(dfpca50, vectorize50, \"euclideana\")\n",
        "metrics[50, \"Euclideana\"] = mean_map, mean_ndcg, mean_recall"
      ],
      "metadata": {
        "colab": {
          "base_uri": "https://localhost:8080/"
        },
        "id": "KP9SgPqaQ5nY",
        "outputId": "4cb3e174-5f73-445d-931d-6098694824e1"
      },
      "execution_count": 23,
      "outputs": [
        {
          "output_type": "stream",
          "name": "stderr",
          "text": [
            "100%|██████████| 4641/4641 [03:26<00:00, 22.42it/s]\n"
          ]
        }
      ]
    },
    {
      "cell_type": "code",
      "source": [
        "mean_map, mean_ndcg, mean_recall = evaluate_model(dfpca50, vectorize50, \"coseno\")\n",
        "metrics[50, \"Coseno\"] = mean_map, mean_ndcg, mean_recall"
      ],
      "metadata": {
        "colab": {
          "base_uri": "https://localhost:8080/"
        },
        "id": "7G41zbEAQ6sP",
        "outputId": "0b55f6df-9672-4c5a-f33b-abff23b1049c"
      },
      "execution_count": 24,
      "outputs": [
        {
          "output_type": "stream",
          "name": "stderr",
          "text": [
            "100%|██████████| 4641/4641 [04:56<00:00, 15.68it/s]\n"
          ]
        }
      ]
    },
    {
      "cell_type": "code",
      "source": [
        "mean_map, mean_ndcg, mean_recall = evaluate_model(dfpca50, vectorize50, \"manhattan\")\n",
        "metrics[50, \"Manhattan\"] = mean_map, mean_ndcg, mean_recall"
      ],
      "metadata": {
        "colab": {
          "base_uri": "https://localhost:8080/"
        },
        "id": "cWA0acItQ7JY",
        "outputId": "037c51a5-840b-4594-df1a-c4081f95c945"
      },
      "execution_count": 25,
      "outputs": [
        {
          "output_type": "stream",
          "name": "stderr",
          "text": [
            "100%|██████████| 4641/4641 [03:21<00:00, 23.00it/s]\n"
          ]
        }
      ]
    },
    {
      "cell_type": "code",
      "source": [
        "mean_map, mean_ndcg, mean_recall = evaluate_model(dfpca100, vectorize100, \"euclideana\")\n",
        "metrics[100, \"Euclideana\"] = mean_map, mean_ndcg, mean_recall"
      ],
      "metadata": {
        "colab": {
          "base_uri": "https://localhost:8080/"
        },
        "id": "UjHh2tHORFcD",
        "outputId": "55da39db-2077-4074-a2c7-a4ccd8dc29ab"
      },
      "execution_count": 26,
      "outputs": [
        {
          "output_type": "stream",
          "name": "stderr",
          "text": [
            "100%|██████████| 4641/4641 [05:28<00:00, 14.12it/s]\n"
          ]
        }
      ]
    },
    {
      "cell_type": "code",
      "source": [
        "mean_map, mean_ndcg, mean_recall = evaluate_model(dfpca100, vectorize100, \"coseno\")\n",
        "metrics[100, \"Coseno\"] = mean_map, mean_ndcg, mean_recall"
      ],
      "metadata": {
        "colab": {
          "base_uri": "https://localhost:8080/"
        },
        "id": "epWSLbVsRFYL",
        "outputId": "1e36b696-915d-461f-e8a2-53f17d2b9e20"
      },
      "execution_count": 27,
      "outputs": [
        {
          "output_type": "stream",
          "name": "stderr",
          "text": [
            "100%|██████████| 4641/4641 [07:04<00:00, 10.93it/s]\n"
          ]
        }
      ]
    },
    {
      "cell_type": "code",
      "source": [
        "mean_map, mean_ndcg, mean_recall = evaluate_model(dfpca100, vectorize100, \"manhattan\")\n",
        "metrics[100, \"Manhattan\"] = mean_map, mean_ndcg, mean_recall"
      ],
      "metadata": {
        "colab": {
          "base_uri": "https://localhost:8080/"
        },
        "id": "QVhr92nGRFSN",
        "outputId": "02655ecd-0471-4906-ba1e-230bc989c61b"
      },
      "execution_count": 28,
      "outputs": [
        {
          "output_type": "stream",
          "name": "stderr",
          "text": [
            "100%|██████████| 4641/4641 [05:40<00:00, 13.62it/s]\n"
          ]
        }
      ]
    },
    {
      "cell_type": "code",
      "execution_count": 29,
      "metadata": {
        "id": "G8uKXfbwGlIK",
        "colab": {
          "base_uri": "https://localhost:8080/"
        },
        "outputId": "8efc9310-ffb8-4e34-ec0c-14359a2ca7c6"
      },
      "outputs": [
        {
          "output_type": "stream",
          "name": "stdout",
          "text": [
            "{(10, 'Euclideana'): (0.0007541478129713424, 0.0008618832148243913, 0.0008618832148243913), (10, 'Coseno'): (0.001292824822236587, 0.001292824822236587, 0.001292824822236587), (10, 'Manhattan'): (0.0007541478129713424, 0.0008618832148243913, 0.0008618832148243913), (50, 'Euclideana'): (0.0019392372333548805, 0.0019392372333548805, 0.0019392372333548805), (50, 'Coseno'): (0.003447532859297565, 0.003447532859297565, 0.003447532859297565), (50, 'Manhattan'): (0.0030165912518853697, 0.003232062055591467, 0.003232062055591467), (100, 'Euclideana'): (0.004740357681534152, 0.00495582848524025, 0.00495582848524025), (100, 'Coseno'): (0.0070028011204481795, 0.007110536522301228, 0.007110536522301228), (100, 'Manhattan'): (0.004848093083387201, 0.005171299288946348, 0.005171299288946348)}\n"
          ]
        }
      ],
      "source": [
        "print(metrics)"
      ]
    },
    {
      "cell_type": "code",
      "source": [
        "import json\n",
        "\n",
        "metrics_str_keys = {str(k): v for k, v in metrics.items()}\n",
        "\n",
        "with open('/content/drive/MyDrive/Colab Notebooks/results.json', 'w') as f:\n",
        "    json.dump(metrics_str_keys, f)"
      ],
      "metadata": {
        "id": "TGM42Wk4ZkrB"
      },
      "execution_count": 31,
      "outputs": []
    },
    {
      "cell_type": "code",
      "source": [
        "df = pd.DataFrame(metrics_str_keys).T\n",
        "df.columns = ['MAP', 'NDCG', 'Recall']\n",
        "print(df)"
      ],
      "metadata": {
        "colab": {
          "base_uri": "https://localhost:8080/"
        },
        "id": "IZlL8gN1b7XO",
        "outputId": "6b28698b-d7f1-4245-e7aa-2706d0c89715"
      },
      "execution_count": 39,
      "outputs": [
        {
          "output_type": "stream",
          "name": "stdout",
          "text": [
            "                          MAP      NDCG    Recall\n",
            "(10, 'Euclideana')   0.000754  0.000862  0.000862\n",
            "(10, 'Coseno')       0.001293  0.001293  0.001293\n",
            "(10, 'Manhattan')    0.000754  0.000862  0.000862\n",
            "(50, 'Euclideana')   0.001939  0.001939  0.001939\n",
            "(50, 'Coseno')       0.003448  0.003448  0.003448\n",
            "(50, 'Manhattan')    0.003017  0.003232  0.003232\n",
            "(100, 'Euclideana')  0.004740  0.004956  0.004956\n",
            "(100, 'Coseno')      0.007003  0.007111  0.007111\n",
            "(100, 'Manhattan')   0.004848  0.005171  0.005171\n"
          ]
        }
      ]
    },
    {
      "cell_type": "code",
      "source": [
        "import matplotlib.pyplot as plt\n",
        "\n",
        "fig, ax = plt.subplots(figsize=(10, 5))\n",
        "df.plot(kind='bar', ax=ax)\n",
        "ax.set_xlabel('Métricas y N° Componentes PCA')\n",
        "ax.set_ylabel('Valor')\n",
        "ax.set_title('Comparación de Modelos')\n",
        "ax.legend(['MAP', 'NDCG', 'Recall'])\n",
        "plt.tight_layout()\n",
        "plt.show()\n"
      ],
      "metadata": {
        "colab": {
          "base_uri": "https://localhost:8080/",
          "height": 507
        },
        "id": "jNCAFeZZcvlG",
        "outputId": "92e8a5ec-9734-4c89-ea93-20155b9afb66"
      },
      "execution_count": 42,
      "outputs": [
        {
          "output_type": "display_data",
          "data": {
            "text/plain": [
              "<Figure size 1000x500 with 1 Axes>"
            ],
            "image/png": "[encoded data removed]"
          },
          "metadata": {}
        }
      ]
    },
    {
      "cell_type": "markdown",
      "source": [
        "De todas las combinaciones, tanto para PCA con n=10, n=50, n=100 y métricas tanto euclideana, manhattan y coseno se obtuvo un mayor MAP, NDCG y Recall para 100 componentes con la métrica coseno. Esto en cuanto a tiempo fue lo más lento pero a la vez más preciso, y vemos que a medida que hay más componentes mayores son las métricas de evaluación. Cabe destacar que se hicieron con el top 10 ranking de items.\n"
      ],
      "metadata": {
        "id": "J34wbT4beCO1"
      }
    }
  ],
  "metadata": {
    "accelerator": "GPU",
    "colab": {
      "gpuType": "T4",
      "provenance": []
    },
    "kernelspec": {
      "display_name": "Python 3",
      "name": "python3"
    },
    "language_info": {
      "name": "python"
    }
  },
  "nbformat": 4,
  "nbformat_minor": 0
}