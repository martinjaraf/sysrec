{
  "cells": [
    {
      "cell_type": "markdown",
      "metadata": {},
      "source": [
        "<h1 align=\"center\">TAREA 1: Sistemas Recomendadores </h1>\n",
        "\n",
        "<h3 align=\"left\">Integrantes:</h3>\n",
        "<p align=\"left\">- Martín Jara</p>\n",
        "<p align=\"left\">- Joaquín Fuentealba</p>"
      ]
    },
    {
      "cell_type": "code",
      "execution_count": 24,
      "metadata": {},
      "outputs": [
        {
          "name": "stdout",
          "output_type": "stream",
          "text": [
            "Requirement already satisfied: implicit in c:\\users\\marti\\appdata\\local\\programs\\python\\python310\\lib\\site-packages (0.7.2)\n",
            "Requirement already satisfied: numpy>=1.17.0 in c:\\users\\marti\\appdata\\local\\programs\\python\\python310\\lib\\site-packages (from implicit) (1.24.4)\n",
            "Requirement already satisfied: scipy>=0.16 in c:\\users\\marti\\appdata\\local\\programs\\python\\python310\\lib\\site-packages (from implicit) (1.9.1)\n",
            "Requirement already satisfied: tqdm>=4.27 in c:\\users\\marti\\appdata\\local\\programs\\python\\python310\\lib\\site-packages (from implicit) (4.64.1)\n",
            "Requirement already satisfied: threadpoolctl in c:\\users\\marti\\appdata\\local\\programs\\python\\python310\\lib\\site-packages (from implicit) (3.1.0)\n",
            "Requirement already satisfied: colorama in c:\\users\\marti\\appdata\\local\\programs\\python\\python310\\lib\\site-packages (from tqdm>=4.27->implicit) (0.4.5)\n"
          ]
        },
        {
          "name": "stderr",
          "output_type": "stream",
          "text": [
            "\n",
            "[notice] A new release of pip is available: 23.2.1 -> 24.0\n",
            "[notice] To update, run: python.exe -m pip install --upgrade pip\n"
          ]
        }
      ],
      "source": [
        "!pip3 install implicit --upgrade"
      ]
    },
    {
      "cell_type": "code",
      "execution_count": 29,
      "metadata": {
        "id": "QubIrECEmOXl"
      },
      "outputs": [],
      "source": [
        "import pandas as pd\n",
        "import matplotlib.pyplot as plt\n",
        "import numpy as np\n",
        "import implicit\n",
        "import scipy.sparse as sparse"
      ]
    },
    {
      "cell_type": "code",
      "execution_count": 5,
      "metadata": {
        "id": "zjJxCVkbqMaL"
      },
      "outputs": [],
      "source": [
        "articles = 'articles.xlsx'\n",
        "customers = 'customers.xlsx'\n",
        "transaction_val = 'transactions_val.xlsx'\n",
        "users_test = 'users_test.xlsx'\n",
        "transactions_train = 'transactions_train.csv'"
      ]
    },
    {
      "cell_type": "code",
      "execution_count": 6,
      "metadata": {
        "id": "ExpOUNUKsyN5"
      },
      "outputs": [],
      "source": [
        "df_articles = pd.read_excel(articles)\n",
        "df_customers = pd.read_excel(customers)\n",
        "# df_transaction_val = pd.read_excel(transaction_val)\n",
        "# df_users_test = pd.read_excel(users_test)\n",
        "df_transaction_train = pd.read_csv(transactions_train)"
      ]
    },
    {
      "cell_type": "markdown",
      "metadata": {},
      "source": [
        "# Actividad 1: Análisis exploratorio"
      ]
    },
    {
      "cell_type": "markdown",
      "metadata": {},
      "source": [
        "## Grafique la distribucion del numero de compras por usuario, identifique los ids de los 10 usuarios mas activos en el dataset. Comente la forma de la distribucion obtenida y que porcentaje de las interacciones han sido hechas por estos 10 usuarios."
      ]
    },
    {
      "cell_type": "code",
      "execution_count": 7,
      "metadata": {},
      "outputs": [],
      "source": [
        "agrupado_compras_por_usuario = df_transaction_train.groupby(['customer_id']).size().reset_index(name='compras_por_usuario')\n",
        "agrupado_compras_por_usuario = agrupado_compras_por_usuario.sort_values(by='compras_por_usuario', ascending=False)"
      ]
    },
    {
      "cell_type": "markdown",
      "metadata": {},
      "source": [
        "### 10 usuarios mas activos:"
      ]
    },
    {
      "cell_type": "code",
      "execution_count": 8,
      "metadata": {},
      "outputs": [
        {
          "data": {
            "text/html": [
              "<div>\n",
              "<style scoped>\n",
              "    .dataframe tbody tr th:only-of-type {\n",
              "        vertical-align: middle;\n",
              "    }\n",
              "\n",
              "    .dataframe tbody tr th {\n",
              "        vertical-align: top;\n",
              "    }\n",
              "\n",
              "    .dataframe thead th {\n",
              "        text-align: right;\n",
              "    }\n",
              "</style>\n",
              "<table border=\"1\" class=\"dataframe\">\n",
              "  <thead>\n",
              "    <tr style=\"text-align: right;\">\n",
              "      <th></th>\n",
              "      <th>customer_id</th>\n",
              "      <th>compras_por_usuario</th>\n",
              "    </tr>\n",
              "  </thead>\n",
              "  <tbody>\n",
              "    <tr>\n",
              "      <th>29300</th>\n",
              "      <td>a65f77281a528bf5c1e9f270141d601d116e1df33bf9df...</td>\n",
              "      <td>1346</td>\n",
              "    </tr>\n",
              "    <tr>\n",
              "      <th>23387</th>\n",
              "      <td>84c34f4f564db1f437943c77af41f83bf6fd7c01701cbb...</td>\n",
              "      <td>950</td>\n",
              "    </tr>\n",
              "    <tr>\n",
              "      <th>40316</th>\n",
              "      <td>e55d5ddb3a0c3fb1b4df8edbf526ba12989ab2a852c727...</td>\n",
              "      <td>910</td>\n",
              "    </tr>\n",
              "    <tr>\n",
              "      <th>8155</th>\n",
              "      <td>2df54f0d0653811fe06479c93905f3e6ecc6d07edf39d8...</td>\n",
              "      <td>875</td>\n",
              "    </tr>\n",
              "    <tr>\n",
              "      <th>28011</th>\n",
              "      <td>9f12a01e2982f70a820b5dd61528bf769b94c5c5e43b23...</td>\n",
              "      <td>789</td>\n",
              "    </tr>\n",
              "    <tr>\n",
              "      <th>33036</th>\n",
              "      <td>bbebb44478948f5052c3f4c5dc04f08653e7938886a856...</td>\n",
              "      <td>740</td>\n",
              "    </tr>\n",
              "    <tr>\n",
              "      <th>37241</th>\n",
              "      <td>d3b5f70ec21ad1718cf4951445e97007de0d4e85c39ea9...</td>\n",
              "      <td>724</td>\n",
              "    </tr>\n",
              "    <tr>\n",
              "      <th>30502</th>\n",
              "      <td>ad3090d52d11671ffb43bfaa85e3620eff669e8c92c911...</td>\n",
              "      <td>670</td>\n",
              "    </tr>\n",
              "    <tr>\n",
              "      <th>244</th>\n",
              "      <td>0152d53f51444891ea07013fd1fb8325415bb09bb6798a...</td>\n",
              "      <td>664</td>\n",
              "    </tr>\n",
              "    <tr>\n",
              "      <th>315</th>\n",
              "      <td>01a4717d38b651e46dda7f1ab8d1494af2682a847fa9a5...</td>\n",
              "      <td>651</td>\n",
              "    </tr>\n",
              "  </tbody>\n",
              "</table>\n",
              "</div>"
            ],
            "text/plain": [
              "                                             customer_id  compras_por_usuario\n",
              "29300  a65f77281a528bf5c1e9f270141d601d116e1df33bf9df...                 1346\n",
              "23387  84c34f4f564db1f437943c77af41f83bf6fd7c01701cbb...                  950\n",
              "40316  e55d5ddb3a0c3fb1b4df8edbf526ba12989ab2a852c727...                  910\n",
              "8155   2df54f0d0653811fe06479c93905f3e6ecc6d07edf39d8...                  875\n",
              "28011  9f12a01e2982f70a820b5dd61528bf769b94c5c5e43b23...                  789\n",
              "33036  bbebb44478948f5052c3f4c5dc04f08653e7938886a856...                  740\n",
              "37241  d3b5f70ec21ad1718cf4951445e97007de0d4e85c39ea9...                  724\n",
              "30502  ad3090d52d11671ffb43bfaa85e3620eff669e8c92c911...                  670\n",
              "244    0152d53f51444891ea07013fd1fb8325415bb09bb6798a...                  664\n",
              "315    01a4717d38b651e46dda7f1ab8d1494af2682a847fa9a5...                  651"
            ]
          },
          "execution_count": 8,
          "metadata": {},
          "output_type": "execute_result"
        }
      ],
      "source": [
        "agrupado_compras_por_usuario.head(10)"
      ]
    },
    {
      "cell_type": "markdown",
      "metadata": {},
      "source": [
        "Porcentaje de interacciones hechas por los 10 usuarios mas activos:"
      ]
    },
    {
      "cell_type": "code",
      "execution_count": 9,
      "metadata": {},
      "outputs": [
        {
          "name": "stdout",
          "output_type": "stream",
          "text": [
            "0.631 %\n"
          ]
        }
      ],
      "source": [
        "percentage_top10_user = (agrupado_compras_por_usuario.head(10)['compras_por_usuario'].sum()/agrupado_compras_por_usuario[\"compras_por_usuario\"].sum())*100\n",
        "print(f\"{percentage_top10_user:.3f} %\")"
      ]
    },
    {
      "cell_type": "markdown",
      "metadata": {},
      "source": [
        "### Distribución del número de compras por usuario"
      ]
    },
    {
      "cell_type": "code",
      "execution_count": 10,
      "metadata": {},
      "outputs": [
        {
          "data": {
            "text/html": [
              "<div>\n",
              "<style scoped>\n",
              "    .dataframe tbody tr th:only-of-type {\n",
              "        vertical-align: middle;\n",
              "    }\n",
              "\n",
              "    .dataframe tbody tr th {\n",
              "        vertical-align: top;\n",
              "    }\n",
              "\n",
              "    .dataframe thead th {\n",
              "        text-align: right;\n",
              "    }\n",
              "</style>\n",
              "<table border=\"1\" class=\"dataframe\">\n",
              "  <thead>\n",
              "    <tr style=\"text-align: right;\">\n",
              "      <th></th>\n",
              "      <th>compras_por_usuario</th>\n",
              "      <th>cantidad_usuario_por_compras</th>\n",
              "      <th>percentage</th>\n",
              "    </tr>\n",
              "  </thead>\n",
              "  <tbody>\n",
              "    <tr>\n",
              "      <th>0</th>\n",
              "      <td>2</td>\n",
              "      <td>2851</td>\n",
              "      <td>6.335556</td>\n",
              "    </tr>\n",
              "    <tr>\n",
              "      <th>1</th>\n",
              "      <td>3</td>\n",
              "      <td>2767</td>\n",
              "      <td>6.148889</td>\n",
              "    </tr>\n",
              "    <tr>\n",
              "      <th>2</th>\n",
              "      <td>4</td>\n",
              "      <td>2814</td>\n",
              "      <td>6.253333</td>\n",
              "    </tr>\n",
              "    <tr>\n",
              "      <th>3</th>\n",
              "      <td>5</td>\n",
              "      <td>3052</td>\n",
              "      <td>6.782222</td>\n",
              "    </tr>\n",
              "    <tr>\n",
              "      <th>4</th>\n",
              "      <td>6</td>\n",
              "      <td>2860</td>\n",
              "      <td>6.355556</td>\n",
              "    </tr>\n",
              "    <tr>\n",
              "      <th>...</th>\n",
              "      <td>...</td>\n",
              "      <td>...</td>\n",
              "      <td>...</td>\n",
              "    </tr>\n",
              "    <tr>\n",
              "      <th>400</th>\n",
              "      <td>789</td>\n",
              "      <td>1</td>\n",
              "      <td>0.002222</td>\n",
              "    </tr>\n",
              "    <tr>\n",
              "      <th>401</th>\n",
              "      <td>875</td>\n",
              "      <td>1</td>\n",
              "      <td>0.002222</td>\n",
              "    </tr>\n",
              "    <tr>\n",
              "      <th>402</th>\n",
              "      <td>910</td>\n",
              "      <td>1</td>\n",
              "      <td>0.002222</td>\n",
              "    </tr>\n",
              "    <tr>\n",
              "      <th>403</th>\n",
              "      <td>950</td>\n",
              "      <td>1</td>\n",
              "      <td>0.002222</td>\n",
              "    </tr>\n",
              "    <tr>\n",
              "      <th>404</th>\n",
              "      <td>1346</td>\n",
              "      <td>1</td>\n",
              "      <td>0.002222</td>\n",
              "    </tr>\n",
              "  </tbody>\n",
              "</table>\n",
              "<p>405 rows × 3 columns</p>\n",
              "</div>"
            ],
            "text/plain": [
              "     compras_por_usuario  cantidad_usuario_por_compras  percentage\n",
              "0                      2                          2851    6.335556\n",
              "1                      3                          2767    6.148889\n",
              "2                      4                          2814    6.253333\n",
              "3                      5                          3052    6.782222\n",
              "4                      6                          2860    6.355556\n",
              "..                   ...                           ...         ...\n",
              "400                  789                             1    0.002222\n",
              "401                  875                             1    0.002222\n",
              "402                  910                             1    0.002222\n",
              "403                  950                             1    0.002222\n",
              "404                 1346                             1    0.002222\n",
              "\n",
              "[405 rows x 3 columns]"
            ]
          },
          "execution_count": 10,
          "metadata": {},
          "output_type": "execute_result"
        }
      ],
      "source": [
        "cantidad_usuario_por_numero_de_compras = agrupado_compras_por_usuario.groupby(['compras_por_usuario']).size().reset_index(name='cantidad_usuario_por_compras')\n",
        "cantidad_usuario_por_numero_de_compras['percentage'] = cantidad_usuario_por_numero_de_compras['cantidad_usuario_por_compras'] / cantidad_usuario_por_numero_de_compras['cantidad_usuario_por_compras'].sum() * 100\n",
        "cantidad_usuario_por_numero_de_compras"
      ]
    },
    {
      "cell_type": "code",
      "execution_count": 11,
      "metadata": {},
      "outputs": [],
      "source": [
        "def rango_compras_por_usuario(compras_por_usuario):\n",
        "    if compras_por_usuario == 2:\n",
        "        return 2\n",
        "    elif compras_por_usuario == 3:\n",
        "        return 3\n",
        "    elif compras_por_usuario == 4:\n",
        "        return 4\n",
        "    elif compras_por_usuario == 5:\n",
        "        return 5\n",
        "    elif compras_por_usuario == 6:\n",
        "        return 6\n",
        "    elif compras_por_usuario == 7:\n",
        "        return 7\n",
        "    elif compras_por_usuario == 8:\n",
        "        return 8\n",
        "    elif compras_por_usuario == 9:\n",
        "        return 9\n",
        "    elif compras_por_usuario == 1:\n",
        "        return 1\n",
        "    else:\n",
        "        return 10\n",
        "    \n",
        "cantidad_usuario_por_numero_de_compras['rango'] = cantidad_usuario_por_numero_de_compras['compras_por_usuario'].apply(rango_compras_por_usuario)    "
      ]
    },
    {
      "cell_type": "code",
      "execution_count": 12,
      "metadata": {},
      "outputs": [],
      "source": [
        "cantidad_usuario_por_numero_de_compras_agrupado = cantidad_usuario_por_numero_de_compras.groupby(['rango']).sum().reset_index()"
      ]
    },
    {
      "cell_type": "code",
      "execution_count": 13,
      "metadata": {},
      "outputs": [
        {
          "data": {
            "image/png": "[encoded data removed]",
            "text/plain": [
              "<Figure size 640x480 with 1 Axes>"
            ]
          },
          "metadata": {},
          "output_type": "display_data"
        }
      ],
      "source": [
        "rango = cantidad_usuario_por_numero_de_compras_agrupado['rango']\n",
        "cantidad_usuarios = cantidad_usuario_por_numero_de_compras_agrupado['cantidad_usuario_por_compras']\n",
        "porcentaje = cantidad_usuario_por_numero_de_compras_agrupado['percentage']\n",
        "\n",
        "plt.bar(rango, cantidad_usuarios)\n",
        "plt.xlabel('Cantidad de compras por usuario')\n",
        "plt.ylabel('Cantidad de usuarios (Frecuencia)')\n",
        "plt.title('Cantidad de usuarios por cantidad de compras')\n",
        "\n",
        "for i in range(len(rango)):\n",
        "    plt.text(rango[i], cantidad_usuarios[i] + 200, f'{round(porcentaje[i], 1)}%', ha='center')\n",
        "\n",
        "plt.show()\n"
      ]
    },
    {
      "cell_type": "markdown",
      "metadata": {},
      "source": [
        "## Grafique la distribucion de interacciones por producto. Identifique los nombres y ids de los 10 productos que han sido mas comprados. Comente la forma de la distribucion y que porcentaje de las interacciones han sido sobre estos 10 productos.\n"
      ]
    },
    {
      "cell_type": "code",
      "execution_count": 14,
      "metadata": {},
      "outputs": [
        {
          "data": {
            "text/html": [
              "<div>\n",
              "<style scoped>\n",
              "    .dataframe tbody tr th:only-of-type {\n",
              "        vertical-align: middle;\n",
              "    }\n",
              "\n",
              "    .dataframe tbody tr th {\n",
              "        vertical-align: top;\n",
              "    }\n",
              "\n",
              "    .dataframe thead th {\n",
              "        text-align: right;\n",
              "    }\n",
              "</style>\n",
              "<table border=\"1\" class=\"dataframe\">\n",
              "  <thead>\n",
              "    <tr style=\"text-align: right;\">\n",
              "      <th></th>\n",
              "      <th>Unnamed: 0</th>\n",
              "      <th>t_dat</th>\n",
              "      <th>customer_id</th>\n",
              "      <th>article_id</th>\n",
              "      <th>price</th>\n",
              "      <th>sales_channel_id</th>\n",
              "    </tr>\n",
              "  </thead>\n",
              "  <tbody>\n",
              "    <tr>\n",
              "      <th>0</th>\n",
              "      <td>0</td>\n",
              "      <td>2018-11-28</td>\n",
              "      <td>1f293f035403ce2d1ff0cdb23cc3faf8b1c2ad04dbedbe...</td>\n",
              "      <td>655265001</td>\n",
              "      <td>0.025407</td>\n",
              "      <td>2</td>\n",
              "    </tr>\n",
              "    <tr>\n",
              "      <th>1</th>\n",
              "      <td>1</td>\n",
              "      <td>2018-11-28</td>\n",
              "      <td>1f293f035403ce2d1ff0cdb23cc3faf8b1c2ad04dbedbe...</td>\n",
              "      <td>537688014</td>\n",
              "      <td>0.050831</td>\n",
              "      <td>2</td>\n",
              "    </tr>\n",
              "    <tr>\n",
              "      <th>2</th>\n",
              "      <td>2</td>\n",
              "      <td>2019-03-28</td>\n",
              "      <td>1f293f035403ce2d1ff0cdb23cc3faf8b1c2ad04dbedbe...</td>\n",
              "      <td>698877002</td>\n",
              "      <td>0.042356</td>\n",
              "      <td>2</td>\n",
              "    </tr>\n",
              "    <tr>\n",
              "      <th>3</th>\n",
              "      <td>3</td>\n",
              "      <td>2019-03-28</td>\n",
              "      <td>1f293f035403ce2d1ff0cdb23cc3faf8b1c2ad04dbedbe...</td>\n",
              "      <td>382127027</td>\n",
              "      <td>0.032186</td>\n",
              "      <td>2</td>\n",
              "    </tr>\n",
              "    <tr>\n",
              "      <th>4</th>\n",
              "      <td>4</td>\n",
              "      <td>2019-03-28</td>\n",
              "      <td>1f293f035403ce2d1ff0cdb23cc3faf8b1c2ad04dbedbe...</td>\n",
              "      <td>610776001</td>\n",
              "      <td>0.008458</td>\n",
              "      <td>2</td>\n",
              "    </tr>\n",
              "    <tr>\n",
              "      <th>5</th>\n",
              "      <td>5</td>\n",
              "      <td>2019-05-17</td>\n",
              "      <td>b4ba419fd5afc5eb274ab3ae1638a51a2e916b4deb0a5c...</td>\n",
              "      <td>647826001</td>\n",
              "      <td>0.016932</td>\n",
              "      <td>2</td>\n",
              "    </tr>\n",
              "    <tr>\n",
              "      <th>6</th>\n",
              "      <td>6</td>\n",
              "      <td>2019-10-03</td>\n",
              "      <td>b4ba419fd5afc5eb274ab3ae1638a51a2e916b4deb0a5c...</td>\n",
              "      <td>754697001</td>\n",
              "      <td>0.017610</td>\n",
              "      <td>2</td>\n",
              "    </tr>\n",
              "    <tr>\n",
              "      <th>7</th>\n",
              "      <td>7</td>\n",
              "      <td>2019-10-03</td>\n",
              "      <td>b4ba419fd5afc5eb274ab3ae1638a51a2e916b4deb0a5c...</td>\n",
              "      <td>754697001</td>\n",
              "      <td>0.017610</td>\n",
              "      <td>2</td>\n",
              "    </tr>\n",
              "    <tr>\n",
              "      <th>8</th>\n",
              "      <td>8</td>\n",
              "      <td>2019-09-03</td>\n",
              "      <td>1a1563c28f0d8781ad87f76e0a5af0485003e350f541dd...</td>\n",
              "      <td>801673004</td>\n",
              "      <td>0.016932</td>\n",
              "      <td>2</td>\n",
              "    </tr>\n",
              "    <tr>\n",
              "      <th>9</th>\n",
              "      <td>9</td>\n",
              "      <td>2019-09-03</td>\n",
              "      <td>1a1563c28f0d8781ad87f76e0a5af0485003e350f541dd...</td>\n",
              "      <td>448509001</td>\n",
              "      <td>0.042356</td>\n",
              "      <td>2</td>\n",
              "    </tr>\n",
              "  </tbody>\n",
              "</table>\n",
              "</div>"
            ],
            "text/plain": [
              "   Unnamed: 0       t_dat                                        customer_id  \\\n",
              "0           0  2018-11-28  1f293f035403ce2d1ff0cdb23cc3faf8b1c2ad04dbedbe...   \n",
              "1           1  2018-11-28  1f293f035403ce2d1ff0cdb23cc3faf8b1c2ad04dbedbe...   \n",
              "2           2  2019-03-28  1f293f035403ce2d1ff0cdb23cc3faf8b1c2ad04dbedbe...   \n",
              "3           3  2019-03-28  1f293f035403ce2d1ff0cdb23cc3faf8b1c2ad04dbedbe...   \n",
              "4           4  2019-03-28  1f293f035403ce2d1ff0cdb23cc3faf8b1c2ad04dbedbe...   \n",
              "5           5  2019-05-17  b4ba419fd5afc5eb274ab3ae1638a51a2e916b4deb0a5c...   \n",
              "6           6  2019-10-03  b4ba419fd5afc5eb274ab3ae1638a51a2e916b4deb0a5c...   \n",
              "7           7  2019-10-03  b4ba419fd5afc5eb274ab3ae1638a51a2e916b4deb0a5c...   \n",
              "8           8  2019-09-03  1a1563c28f0d8781ad87f76e0a5af0485003e350f541dd...   \n",
              "9           9  2019-09-03  1a1563c28f0d8781ad87f76e0a5af0485003e350f541dd...   \n",
              "\n",
              "   article_id     price  sales_channel_id  \n",
              "0   655265001  0.025407                 2  \n",
              "1   537688014  0.050831                 2  \n",
              "2   698877002  0.042356                 2  \n",
              "3   382127027  0.032186                 2  \n",
              "4   610776001  0.008458                 2  \n",
              "5   647826001  0.016932                 2  \n",
              "6   754697001  0.017610                 2  \n",
              "7   754697001  0.017610                 2  \n",
              "8   801673004  0.016932                 2  \n",
              "9   448509001  0.042356                 2  "
            ]
          },
          "execution_count": 14,
          "metadata": {},
          "output_type": "execute_result"
        }
      ],
      "source": [
        "df_transaction_train.head(10)"
      ]
    },
    {
      "cell_type": "code",
      "execution_count": 15,
      "metadata": {},
      "outputs": [],
      "source": [
        "agrupado_compras_item = df_transaction_train.groupby(['article_id']).size().reset_index(name='compras_por_item')\n",
        "agrupado_compras_item = agrupado_compras_item.sort_values(by='compras_por_item', ascending=False)"
      ]
    },
    {
      "cell_type": "markdown",
      "metadata": {},
      "source": [
        "### 10 productos más comprados:"
      ]
    },
    {
      "cell_type": "code",
      "execution_count": 16,
      "metadata": {},
      "outputs": [
        {
          "data": {
            "text/html": [
              "<div>\n",
              "<style scoped>\n",
              "    .dataframe tbody tr th:only-of-type {\n",
              "        vertical-align: middle;\n",
              "    }\n",
              "\n",
              "    .dataframe tbody tr th {\n",
              "        vertical-align: top;\n",
              "    }\n",
              "\n",
              "    .dataframe thead th {\n",
              "        text-align: right;\n",
              "    }\n",
              "</style>\n",
              "<table border=\"1\" class=\"dataframe\">\n",
              "  <thead>\n",
              "    <tr style=\"text-align: right;\">\n",
              "      <th></th>\n",
              "      <th>article_id</th>\n",
              "      <th>prod_name</th>\n",
              "      <th>compras_por_item</th>\n",
              "    </tr>\n",
              "  </thead>\n",
              "  <tbody>\n",
              "    <tr>\n",
              "      <th>0</th>\n",
              "      <td>706016001</td>\n",
              "      <td>Jade HW Skinny Denim TRS</td>\n",
              "      <td>1978</td>\n",
              "    </tr>\n",
              "    <tr>\n",
              "      <th>1</th>\n",
              "      <td>706016002</td>\n",
              "      <td>Jade HW Skinny Denim TRS</td>\n",
              "      <td>1357</td>\n",
              "    </tr>\n",
              "    <tr>\n",
              "      <th>2</th>\n",
              "      <td>610776002</td>\n",
              "      <td>Tilly (1)</td>\n",
              "      <td>1302</td>\n",
              "    </tr>\n",
              "    <tr>\n",
              "      <th>3</th>\n",
              "      <td>372860001</td>\n",
              "      <td>7p Basic Shaftless</td>\n",
              "      <td>1225</td>\n",
              "    </tr>\n",
              "    <tr>\n",
              "      <th>4</th>\n",
              "      <td>759871002</td>\n",
              "      <td>Tilda tank</td>\n",
              "      <td>1010</td>\n",
              "    </tr>\n",
              "    <tr>\n",
              "      <th>5</th>\n",
              "      <td>399223001</td>\n",
              "      <td>Curvy Jeggings HW Ankle</td>\n",
              "      <td>991</td>\n",
              "    </tr>\n",
              "    <tr>\n",
              "      <th>6</th>\n",
              "      <td>464297007</td>\n",
              "      <td>Greta Thong Mynta Low 3p</td>\n",
              "      <td>920</td>\n",
              "    </tr>\n",
              "    <tr>\n",
              "      <th>7</th>\n",
              "      <td>562245001</td>\n",
              "      <td>Luna skinny RW</td>\n",
              "      <td>899</td>\n",
              "    </tr>\n",
              "    <tr>\n",
              "      <th>8</th>\n",
              "      <td>562245046</td>\n",
              "      <td>Luna skinny RW</td>\n",
              "      <td>849</td>\n",
              "    </tr>\n",
              "    <tr>\n",
              "      <th>9</th>\n",
              "      <td>372860002</td>\n",
              "      <td>7p Basic Shaftless</td>\n",
              "      <td>849</td>\n",
              "    </tr>\n",
              "  </tbody>\n",
              "</table>\n",
              "</div>"
            ],
            "text/plain": [
              "   article_id                 prod_name  compras_por_item\n",
              "0   706016001  Jade HW Skinny Denim TRS              1978\n",
              "1   706016002  Jade HW Skinny Denim TRS              1357\n",
              "2   610776002                 Tilly (1)              1302\n",
              "3   372860001        7p Basic Shaftless              1225\n",
              "4   759871002                Tilda tank              1010\n",
              "5   399223001   Curvy Jeggings HW Ankle               991\n",
              "6   464297007  Greta Thong Mynta Low 3p               920\n",
              "7   562245001            Luna skinny RW               899\n",
              "8   562245046            Luna skinny RW               849\n",
              "9   372860002        7p Basic Shaftless               849"
            ]
          },
          "execution_count": 16,
          "metadata": {},
          "output_type": "execute_result"
        }
      ],
      "source": [
        "top_10_items = agrupado_compras_item.head(10)\n",
        "top_10_items = pd.merge(top_10_items, df_articles, on='article_id', how='left')\n",
        "top_10_items = top_10_items[['article_id', 'prod_name', 'compras_por_item']]\n",
        "top_10_items"
      ]
    },
    {
      "cell_type": "markdown",
      "metadata": {},
      "source": [
        "Porcentaje de interacciones hechas sobre los 10 productos más comprados:"
      ]
    },
    {
      "cell_type": "code",
      "execution_count": 17,
      "metadata": {},
      "outputs": [
        {
          "name": "stdout",
          "output_type": "stream",
          "text": [
            "0.863 %\n"
          ]
        }
      ],
      "source": [
        "percentage_top10_item = (agrupado_compras_item.head(10)['compras_por_item'].sum()/agrupado_compras_item[\"compras_por_item\"].sum())*100\n",
        "print(f\"{percentage_top10_item:.3f} %\")"
      ]
    },
    {
      "cell_type": "markdown",
      "metadata": {},
      "source": [
        "### Distribución del número de interacciones por producto"
      ]
    },
    {
      "cell_type": "code",
      "execution_count": 18,
      "metadata": {},
      "outputs": [
        {
          "data": {
            "text/html": [
              "<div>\n",
              "<style scoped>\n",
              "    .dataframe tbody tr th:only-of-type {\n",
              "        vertical-align: middle;\n",
              "    }\n",
              "\n",
              "    .dataframe tbody tr th {\n",
              "        vertical-align: top;\n",
              "    }\n",
              "\n",
              "    .dataframe thead th {\n",
              "        text-align: right;\n",
              "    }\n",
              "</style>\n",
              "<table border=\"1\" class=\"dataframe\">\n",
              "  <thead>\n",
              "    <tr style=\"text-align: right;\">\n",
              "      <th></th>\n",
              "      <th>article_id</th>\n",
              "      <th>compras_por_item</th>\n",
              "    </tr>\n",
              "  </thead>\n",
              "  <tbody>\n",
              "    <tr>\n",
              "      <th>36789</th>\n",
              "      <td>706016001</td>\n",
              "      <td>1978</td>\n",
              "    </tr>\n",
              "    <tr>\n",
              "      <th>36790</th>\n",
              "      <td>706016002</td>\n",
              "      <td>1357</td>\n",
              "    </tr>\n",
              "    <tr>\n",
              "      <th>14906</th>\n",
              "      <td>610776002</td>\n",
              "      <td>1302</td>\n",
              "    </tr>\n",
              "    <tr>\n",
              "      <th>1174</th>\n",
              "      <td>372860001</td>\n",
              "      <td>1225</td>\n",
              "    </tr>\n",
              "    <tr>\n",
              "      <th>49637</th>\n",
              "      <td>759871002</td>\n",
              "      <td>1010</td>\n",
              "    </tr>\n",
              "    <tr>\n",
              "      <th>...</th>\n",
              "      <td>...</td>\n",
              "      <td>...</td>\n",
              "    </tr>\n",
              "    <tr>\n",
              "      <th>61591</th>\n",
              "      <td>823332003</td>\n",
              "      <td>1</td>\n",
              "    </tr>\n",
              "    <tr>\n",
              "      <th>61592</th>\n",
              "      <td>823334001</td>\n",
              "      <td>1</td>\n",
              "    </tr>\n",
              "    <tr>\n",
              "      <th>28007</th>\n",
              "      <td>673806004</td>\n",
              "      <td>1</td>\n",
              "    </tr>\n",
              "    <tr>\n",
              "      <th>28006</th>\n",
              "      <td>673805001</td>\n",
              "      <td>1</td>\n",
              "    </tr>\n",
              "    <tr>\n",
              "      <th>73079</th>\n",
              "      <td>948152002</td>\n",
              "      <td>1</td>\n",
              "    </tr>\n",
              "  </tbody>\n",
              "</table>\n",
              "<p>73080 rows × 2 columns</p>\n",
              "</div>"
            ],
            "text/plain": [
              "       article_id  compras_por_item\n",
              "36789   706016001              1978\n",
              "36790   706016002              1357\n",
              "14906   610776002              1302\n",
              "1174    372860001              1225\n",
              "49637   759871002              1010\n",
              "...           ...               ...\n",
              "61591   823332003                 1\n",
              "61592   823334001                 1\n",
              "28007   673806004                 1\n",
              "28006   673805001                 1\n",
              "73079   948152002                 1\n",
              "\n",
              "[73080 rows x 2 columns]"
            ]
          },
          "execution_count": 18,
          "metadata": {},
          "output_type": "execute_result"
        }
      ],
      "source": [
        "agrupado_compras_item"
      ]
    },
    {
      "cell_type": "code",
      "execution_count": 19,
      "metadata": {},
      "outputs": [
        {
          "data": {
            "text/html": [
              "<div>\n",
              "<style scoped>\n",
              "    .dataframe tbody tr th:only-of-type {\n",
              "        vertical-align: middle;\n",
              "    }\n",
              "\n",
              "    .dataframe tbody tr th {\n",
              "        vertical-align: top;\n",
              "    }\n",
              "\n",
              "    .dataframe thead th {\n",
              "        text-align: right;\n",
              "    }\n",
              "</style>\n",
              "<table border=\"1\" class=\"dataframe\">\n",
              "  <thead>\n",
              "    <tr style=\"text-align: right;\">\n",
              "      <th></th>\n",
              "      <th>compras_por_item</th>\n",
              "      <th>cantidad_item_por_compras</th>\n",
              "      <th>percentage</th>\n",
              "    </tr>\n",
              "  </thead>\n",
              "  <tbody>\n",
              "    <tr>\n",
              "      <th>0</th>\n",
              "      <td>1</td>\n",
              "      <td>13139</td>\n",
              "      <td>17.978927</td>\n",
              "    </tr>\n",
              "    <tr>\n",
              "      <th>1</th>\n",
              "      <td>2</td>\n",
              "      <td>8086</td>\n",
              "      <td>11.064587</td>\n",
              "    </tr>\n",
              "    <tr>\n",
              "      <th>2</th>\n",
              "      <td>3</td>\n",
              "      <td>5706</td>\n",
              "      <td>7.807882</td>\n",
              "    </tr>\n",
              "    <tr>\n",
              "      <th>3</th>\n",
              "      <td>4</td>\n",
              "      <td>4294</td>\n",
              "      <td>5.875753</td>\n",
              "    </tr>\n",
              "    <tr>\n",
              "      <th>4</th>\n",
              "      <td>5</td>\n",
              "      <td>3429</td>\n",
              "      <td>4.692118</td>\n",
              "    </tr>\n",
              "    <tr>\n",
              "      <th>...</th>\n",
              "      <td>...</td>\n",
              "      <td>...</td>\n",
              "      <td>...</td>\n",
              "    </tr>\n",
              "    <tr>\n",
              "      <th>427</th>\n",
              "      <td>1010</td>\n",
              "      <td>1</td>\n",
              "      <td>0.001368</td>\n",
              "    </tr>\n",
              "    <tr>\n",
              "      <th>428</th>\n",
              "      <td>1225</td>\n",
              "      <td>1</td>\n",
              "      <td>0.001368</td>\n",
              "    </tr>\n",
              "    <tr>\n",
              "      <th>429</th>\n",
              "      <td>1302</td>\n",
              "      <td>1</td>\n",
              "      <td>0.001368</td>\n",
              "    </tr>\n",
              "    <tr>\n",
              "      <th>430</th>\n",
              "      <td>1357</td>\n",
              "      <td>1</td>\n",
              "      <td>0.001368</td>\n",
              "    </tr>\n",
              "    <tr>\n",
              "      <th>431</th>\n",
              "      <td>1978</td>\n",
              "      <td>1</td>\n",
              "      <td>0.001368</td>\n",
              "    </tr>\n",
              "  </tbody>\n",
              "</table>\n",
              "<p>432 rows × 3 columns</p>\n",
              "</div>"
            ],
            "text/plain": [
              "     compras_por_item  cantidad_item_por_compras  percentage\n",
              "0                   1                      13139   17.978927\n",
              "1                   2                       8086   11.064587\n",
              "2                   3                       5706    7.807882\n",
              "3                   4                       4294    5.875753\n",
              "4                   5                       3429    4.692118\n",
              "..                ...                        ...         ...\n",
              "427              1010                          1    0.001368\n",
              "428              1225                          1    0.001368\n",
              "429              1302                          1    0.001368\n",
              "430              1357                          1    0.001368\n",
              "431              1978                          1    0.001368\n",
              "\n",
              "[432 rows x 3 columns]"
            ]
          },
          "execution_count": 19,
          "metadata": {},
          "output_type": "execute_result"
        }
      ],
      "source": [
        "cantidad_item_por_numero_de_compras = agrupado_compras_item.groupby(['compras_por_item']).size().reset_index(name='cantidad_item_por_compras')\n",
        "cantidad_item_por_numero_de_compras['percentage'] = cantidad_item_por_numero_de_compras['cantidad_item_por_compras'] / cantidad_item_por_numero_de_compras['cantidad_item_por_compras'].sum() * 100\n",
        "cantidad_item_por_numero_de_compras"
      ]
    },
    {
      "cell_type": "code",
      "execution_count": 20,
      "metadata": {},
      "outputs": [],
      "source": [
        "cantidad_item_por_numero_de_compras['rango'] = cantidad_item_por_numero_de_compras['compras_por_item'].apply(rango_compras_por_usuario)\n",
        "cantidad_item_por_numero_de_compras_agrupado = cantidad_item_por_numero_de_compras.groupby(['rango']).sum().reset_index()"
      ]
    },
    {
      "cell_type": "code",
      "execution_count": 21,
      "metadata": {},
      "outputs": [
        {
          "data": {
            "image/png": "[encoded data removed]",
            "text/plain": [
              "<Figure size 640x480 with 1 Axes>"
            ]
          },
          "metadata": {},
          "output_type": "display_data"
        }
      ],
      "source": [
        "rango_item = cantidad_item_por_numero_de_compras_agrupado['rango']\n",
        "cantidad_item = cantidad_item_por_numero_de_compras_agrupado['cantidad_item_por_compras']\n",
        "porcentaje_item = cantidad_item_por_numero_de_compras_agrupado['percentage']\n",
        "\n",
        "plt.bar(rango_item, cantidad_item)\n",
        "plt.xlabel('Cantidad de compras')\n",
        "plt.ylabel('Cantidad de productos')\n",
        "plt.title('Cantidad de productos por cantidad de compras')\n",
        "\n",
        "for i in range(len(rango_item)):\n",
        "    plt.text(rango_item[i], cantidad_item[i] + 200, f'{round(porcentaje_item[i], 1)}%', ha='center')\n",
        "\n",
        "plt.show()"
      ]
    },
    {
      "cell_type": "markdown",
      "metadata": {},
      "source": [
        "## Genere una tabla resumen con el numero de usuarios distintos, el numero de productos distintos, promedio y desviacion estandar de productos por usuario, promedio y desviacion estandar de usuarios por productos y densidad del conjunto de datos (o sparsity)en cuanto a compras."
      ]
    },
    {
      "cell_type": "markdown",
      "metadata": {},
      "source": [
        "### Tabla resumen"
      ]
    },
    {
      "cell_type": "code",
      "execution_count": 22,
      "metadata": {},
      "outputs": [],
      "source": [
        "usuarios_distintos = df_customers['customer_id'].nunique()\n",
        "productos_distintos = df_articles['article_id'].nunique()\n",
        "promedio_productos_por_usuario = df_transaction_train.groupby(['customer_id'])['article_id'].count().mean()\n",
        "desviacion_estandar_productos_por_usuario = df_transaction_train.groupby(['customer_id'])['article_id'].count().std()\n",
        "promedio_usuarios_por_producto = df_transaction_train.groupby(['article_id'])['customer_id'].count().mean()\n",
        "desviacion_estandar_usuarios_por_producto = df_transaction_train.groupby(['article_id'])['customer_id'].count().std()\n",
        "sparsity = 1 - (df_transaction_train.shape[0] / (usuarios_distintos * productos_distintos))"
      ]
    },
    {
      "cell_type": "code",
      "execution_count": 23,
      "metadata": {},
      "outputs": [
        {
          "name": "stdout",
          "output_type": "stream",
          "text": [
            "+-------------------------------------------+------------------------+\n",
            "| Datos                                     | Valor                  |\n",
            "+-------------------------------------------+------------------------+\n",
            "| Usuarios distintos                        | 45000                  |\n",
            "| Productos distintos                       | 77650                  |\n",
            "| Promedio productos por usuario            | 29.30002222222222      |\n",
            "| Desviación estándar productos por usuario | 44.93946050091238      |\n",
            "| Promedio usuarios por producto            | 18.04188560481664      |\n",
            "| Desviación estándar usuarios por producto | 38.017470006210154     |\n",
            "| Sparsity                                  | 0.9996226655219289     |\n",
            "+-------------------------------------------+------------------------+\n"
          ]
        }
      ],
      "source": [
        "print(\"+-------------------------------------------+------------------------+\")\n",
        "print(\"| Datos                                     | Valor                  |\")\n",
        "print(\"+-------------------------------------------+------------------------+\")\n",
        "print(f\"| Usuarios distintos                        | {usuarios_distintos:<23}|\")\n",
        "print(f\"| Productos distintos                       | {productos_distintos:<23}|\")\n",
        "print(f\"| Promedio productos por usuario            | {promedio_productos_por_usuario:<23}|\")\n",
        "print(f\"| Desviación estándar productos por usuario | {desviacion_estandar_productos_por_usuario:<23}|\")\n",
        "print(f\"| Promedio usuarios por producto            | {promedio_usuarios_por_producto:<23}|\")\n",
        "print(f\"| Desviación estándar usuarios por producto | {desviacion_estandar_usuarios_por_producto:<23}|\")\n",
        "print(f\"| Sparsity                                  | {sparsity:<23}|\")\n",
        "print(\"+-------------------------------------------+------------------------+\")\n"
      ]
    },
    {
      "cell_type": "markdown",
      "metadata": {},
      "source": [
        "# Actividad 2: Recomendación no personalizada"
      ]
    },
    {
      "cell_type": "code",
      "execution_count": null,
      "metadata": {},
      "outputs": [],
      "source": []
    },
    {
      "cell_type": "markdown",
      "metadata": {},
      "source": [
        "# Actividad 3: Recomendación basada en feedback implícito"
      ]
    },
    {
      "cell_type": "code",
      "execution_count": 30,
      "metadata": {},
      "outputs": [],
      "source": [
        "user_items = {}\n",
        "itemset = set()\n",
        "\n",
        "for row in df_transaction_train.itertuples():\n",
        "    if row[1] not in user_items:\n",
        "        user_items[row[1]] = []\n",
        "        \n",
        "    user_items[row[1]].append(row[2])\n",
        "    itemset.add(row[2])\n",
        "\n",
        "itemset = np.sort(list(itemset))\n",
        "\n",
        "sparse_matrix = np.zeros((len(user_items), len(itemset)))\n",
        "\n",
        "for i, items in enumerate(user_items.values()):\n",
        "    sparse_matrix[i] = np.isin(itemset, items, assume_unique=True).astype(int)\n",
        "    \n",
        "matrix = sparse.csr_matrix(sparse_matrix.T)"
      ]
    },
    {
      "cell_type": "markdown",
      "metadata": {},
      "source": [
        "### Factorización matricial optimizada por ALS"
      ]
    },
    {
      "cell_type": "code",
      "execution_count": 31,
      "metadata": {},
      "outputs": [
        {
          "name": "stderr",
          "output_type": "stream",
          "text": [
            "c:\\Users\\marti\\AppData\\Local\\Programs\\Python\\Python310\\lib\\site-packages\\implicit\\cpu\\als.py:95: RuntimeWarning: OpenBLAS is configured to use 8 threads. It is highly recommended to disable its internal threadpool by setting the environment variable 'OPENBLAS_NUM_THREADS=1' or by calling 'threadpoolctl.threadpool_limits(1, \"blas\")'. Having OpenBLAS use a threadpool can lead to severe performance issues here.\n",
            "  check_blas_config()\n"
          ]
        },
        {
          "data": {
            "application/vnd.jupyter.widget-view+json": {
              "model_id": "a79c6ef527d74b56b2d86be6d84fbef7",
              "version_major": 2,
              "version_minor": 0
            },
            "text/plain": [
              "  0%|          | 0/10 [00:00<?, ?it/s]"
            ]
          },
          "metadata": {},
          "output_type": "display_data"
        }
      ],
      "source": [
        "model_als = implicit.als.AlternatingLeastSquares(factors=100, iterations=10, use_gpu=False)\n",
        "model_als.fit(matrix)"
      ]
    },
    {
      "cell_type": "markdown",
      "metadata": {},
      "source": [
        "### Factorización matricial optimizada por BPR"
      ]
    },
    {
      "cell_type": "code",
      "execution_count": null,
      "metadata": {},
      "outputs": [],
      "source": []
    }
  ],
  "metadata": {
    "colab": {
      "provenance": []
    },
    "kernelspec": {
      "display_name": "Python 3",
      "name": "python3"
    },
    "language_info": {
      "codemirror_mode": {
        "name": "ipython",
        "version": 3
      },
      "file_extension": ".py",
      "mimetype": "text/x-python",
      "name": "python",
      "nbconvert_exporter": "python",
      "pygments_lexer": "ipython3",
      "version": "3.10.5"
    }
  },
  "nbformat": 4,
  "nbformat_minor": 0
}
