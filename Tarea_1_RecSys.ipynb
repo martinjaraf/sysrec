{
  "cells": [
    {
      "cell_type": "code",
      "execution_count": null,
      "metadata": {},
      "outputs": [],
      "source": [
        "<h1 align=\"center\">TAREA 1: Sistemas Recomendadores </h1>\n",
        "\n",
        "<h3 align=\"left\">Integrantes:</h3>\n",
        "<p align=\"left\">- Martín Jara</p>\n",
        "<p align=\"left\">- Joaquín Fuentealba</p>"
      ]
    },
    {
      "cell_type": "code",
      "execution_count": 1,
      "metadata": {
        "id": "QubIrECEmOXl"
      },
      "outputs": [],
      "source": [
        "import pandas as pd\n",
        "import matplotlib.pyplot as plt"
      ]
    },
    {
      "cell_type": "code",
      "execution_count": 2,
      "metadata": {
        "id": "zjJxCVkbqMaL"
      },
      "outputs": [],
      "source": [
        "articles = 'articles.xlsx'\n",
        "customers = 'customers.xlsx'\n",
        "transaction_val = 'transactions_val.xlsx'\n",
        "users_test = 'users_test.xlsx'\n",
        "transactions_train = 'transactions_train.csv'"
      ]
    },
    {
      "cell_type": "code",
      "execution_count": 3,
      "metadata": {
        "id": "ExpOUNUKsyN5"
      },
      "outputs": [],
      "source": [
        "# df_articles = pd.read_excel(articles)\n",
        "# df_customers = pd.read_excel(customers)\n",
        "# df_transaction_val = pd.read_excel(transaction_val)\n",
        "# df_users_test = pd.read_excel(users_test)\n",
        "df_transaction_train = pd.read_csv(transactions_train)"
      ]
    },
    {
      "cell_type": "code",
      "execution_count": 4,
      "metadata": {},
      "outputs": [
        {
          "data": {
            "text/html": [
              "<div>\n",
              "<style scoped>\n",
              "    .dataframe tbody tr th:only-of-type {\n",
              "        vertical-align: middle;\n",
              "    }\n",
              "\n",
              "    .dataframe tbody tr th {\n",
              "        vertical-align: top;\n",
              "    }\n",
              "\n",
              "    .dataframe thead th {\n",
              "        text-align: right;\n",
              "    }\n",
              "</style>\n",
              "<table border=\"1\" class=\"dataframe\">\n",
              "  <thead>\n",
              "    <tr style=\"text-align: right;\">\n",
              "      <th></th>\n",
              "      <th>Unnamed: 0</th>\n",
              "      <th>t_dat</th>\n",
              "      <th>customer_id</th>\n",
              "      <th>article_id</th>\n",
              "      <th>price</th>\n",
              "      <th>sales_channel_id</th>\n",
              "    </tr>\n",
              "  </thead>\n",
              "  <tbody>\n",
              "    <tr>\n",
              "      <th>0</th>\n",
              "      <td>0</td>\n",
              "      <td>2018-11-28</td>\n",
              "      <td>1f293f035403ce2d1ff0cdb23cc3faf8b1c2ad04dbedbe...</td>\n",
              "      <td>655265001</td>\n",
              "      <td>0.025407</td>\n",
              "      <td>2</td>\n",
              "    </tr>\n",
              "    <tr>\n",
              "      <th>1</th>\n",
              "      <td>1</td>\n",
              "      <td>2018-11-28</td>\n",
              "      <td>1f293f035403ce2d1ff0cdb23cc3faf8b1c2ad04dbedbe...</td>\n",
              "      <td>537688014</td>\n",
              "      <td>0.050831</td>\n",
              "      <td>2</td>\n",
              "    </tr>\n",
              "    <tr>\n",
              "      <th>2</th>\n",
              "      <td>2</td>\n",
              "      <td>2019-03-28</td>\n",
              "      <td>1f293f035403ce2d1ff0cdb23cc3faf8b1c2ad04dbedbe...</td>\n",
              "      <td>698877002</td>\n",
              "      <td>0.042356</td>\n",
              "      <td>2</td>\n",
              "    </tr>\n",
              "    <tr>\n",
              "      <th>3</th>\n",
              "      <td>3</td>\n",
              "      <td>2019-03-28</td>\n",
              "      <td>1f293f035403ce2d1ff0cdb23cc3faf8b1c2ad04dbedbe...</td>\n",
              "      <td>382127027</td>\n",
              "      <td>0.032186</td>\n",
              "      <td>2</td>\n",
              "    </tr>\n",
              "    <tr>\n",
              "      <th>4</th>\n",
              "      <td>4</td>\n",
              "      <td>2019-03-28</td>\n",
              "      <td>1f293f035403ce2d1ff0cdb23cc3faf8b1c2ad04dbedbe...</td>\n",
              "      <td>610776001</td>\n",
              "      <td>0.008458</td>\n",
              "      <td>2</td>\n",
              "    </tr>\n",
              "    <tr>\n",
              "      <th>...</th>\n",
              "      <td>...</td>\n",
              "      <td>...</td>\n",
              "      <td>...</td>\n",
              "      <td>...</td>\n",
              "      <td>...</td>\n",
              "      <td>...</td>\n",
              "    </tr>\n",
              "    <tr>\n",
              "      <th>1318496</th>\n",
              "      <td>1318496</td>\n",
              "      <td>2019-09-10</td>\n",
              "      <td>3c0c198b6c04d50b639ca8128c3010603f34b37896bbf8...</td>\n",
              "      <td>751478002</td>\n",
              "      <td>0.042356</td>\n",
              "      <td>2</td>\n",
              "    </tr>\n",
              "    <tr>\n",
              "      <th>1318497</th>\n",
              "      <td>1318497</td>\n",
              "      <td>2019-09-20</td>\n",
              "      <td>3c0c198b6c04d50b639ca8128c3010603f34b37896bbf8...</td>\n",
              "      <td>750444005</td>\n",
              "      <td>0.059305</td>\n",
              "      <td>1</td>\n",
              "    </tr>\n",
              "    <tr>\n",
              "      <th>1318498</th>\n",
              "      <td>1318498</td>\n",
              "      <td>2019-09-20</td>\n",
              "      <td>3c0c198b6c04d50b639ca8128c3010603f34b37896bbf8...</td>\n",
              "      <td>811198001</td>\n",
              "      <td>0.033881</td>\n",
              "      <td>1</td>\n",
              "    </tr>\n",
              "    <tr>\n",
              "      <th>1318499</th>\n",
              "      <td>1318499</td>\n",
              "      <td>2019-09-20</td>\n",
              "      <td>3c0c198b6c04d50b639ca8128c3010603f34b37896bbf8...</td>\n",
              "      <td>787880005</td>\n",
              "      <td>0.050831</td>\n",
              "      <td>1</td>\n",
              "    </tr>\n",
              "    <tr>\n",
              "      <th>1318500</th>\n",
              "      <td>1318500</td>\n",
              "      <td>2019-09-22</td>\n",
              "      <td>3c0c198b6c04d50b639ca8128c3010603f34b37896bbf8...</td>\n",
              "      <td>731521005</td>\n",
              "      <td>0.033881</td>\n",
              "      <td>2</td>\n",
              "    </tr>\n",
              "  </tbody>\n",
              "</table>\n",
              "<p>1318501 rows × 6 columns</p>\n",
              "</div>"
            ],
            "text/plain": [
              "         Unnamed: 0       t_dat  \\\n",
              "0                 0  2018-11-28   \n",
              "1                 1  2018-11-28   \n",
              "2                 2  2019-03-28   \n",
              "3                 3  2019-03-28   \n",
              "4                 4  2019-03-28   \n",
              "...             ...         ...   \n",
              "1318496     1318496  2019-09-10   \n",
              "1318497     1318497  2019-09-20   \n",
              "1318498     1318498  2019-09-20   \n",
              "1318499     1318499  2019-09-20   \n",
              "1318500     1318500  2019-09-22   \n",
              "\n",
              "                                               customer_id  article_id  \\\n",
              "0        1f293f035403ce2d1ff0cdb23cc3faf8b1c2ad04dbedbe...   655265001   \n",
              "1        1f293f035403ce2d1ff0cdb23cc3faf8b1c2ad04dbedbe...   537688014   \n",
              "2        1f293f035403ce2d1ff0cdb23cc3faf8b1c2ad04dbedbe...   698877002   \n",
              "3        1f293f035403ce2d1ff0cdb23cc3faf8b1c2ad04dbedbe...   382127027   \n",
              "4        1f293f035403ce2d1ff0cdb23cc3faf8b1c2ad04dbedbe...   610776001   \n",
              "...                                                    ...         ...   \n",
              "1318496  3c0c198b6c04d50b639ca8128c3010603f34b37896bbf8...   751478002   \n",
              "1318497  3c0c198b6c04d50b639ca8128c3010603f34b37896bbf8...   750444005   \n",
              "1318498  3c0c198b6c04d50b639ca8128c3010603f34b37896bbf8...   811198001   \n",
              "1318499  3c0c198b6c04d50b639ca8128c3010603f34b37896bbf8...   787880005   \n",
              "1318500  3c0c198b6c04d50b639ca8128c3010603f34b37896bbf8...   731521005   \n",
              "\n",
              "            price  sales_channel_id  \n",
              "0        0.025407                 2  \n",
              "1        0.050831                 2  \n",
              "2        0.042356                 2  \n",
              "3        0.032186                 2  \n",
              "4        0.008458                 2  \n",
              "...           ...               ...  \n",
              "1318496  0.042356                 2  \n",
              "1318497  0.059305                 1  \n",
              "1318498  0.033881                 1  \n",
              "1318499  0.050831                 1  \n",
              "1318500  0.033881                 2  \n",
              "\n",
              "[1318501 rows x 6 columns]"
            ]
          },
          "execution_count": 4,
          "metadata": {},
          "output_type": "execute_result"
        }
      ],
      "source": [
        "df_transaction_train"
      ]
    },
    {
      "cell_type": "markdown",
      "metadata": {},
      "source": [
        "# Actividad 1"
      ]
    },
    {
      "cell_type": "markdown",
      "metadata": {},
      "source": [
        "## Grafique la distribucion del numero de compras por usuario, identifique los ids de los 10 usuarios mas activos en el dataset. Comente la forma de la distribucion obtenida y que porcentaje de las interacciones han sido hechas por estos 10 usuarios."
      ]
    },
    {
      "cell_type": "code",
      "execution_count": 16,
      "metadata": {},
      "outputs": [],
      "source": [
        "agrupado_compras_por_usuario = df_transaction_train.groupby(['customer_id']).size().reset_index(name='compras_por_usuario')\n",
        "agrupado_compras_por_usuario = agrupado_compras_por_usuario.sort_values(by='compras_por_usuario', ascending=False)"
      ]
    },
    {
      "cell_type": "markdown",
      "metadata": {},
      "source": [
        "### 10 usuarios mas activos:"
      ]
    },
    {
      "cell_type": "code",
      "execution_count": 17,
      "metadata": {},
      "outputs": [
        {
          "data": {
            "text/html": [
              "<div>\n",
              "<style scoped>\n",
              "    .dataframe tbody tr th:only-of-type {\n",
              "        vertical-align: middle;\n",
              "    }\n",
              "\n",
              "    .dataframe tbody tr th {\n",
              "        vertical-align: top;\n",
              "    }\n",
              "\n",
              "    .dataframe thead th {\n",
              "        text-align: right;\n",
              "    }\n",
              "</style>\n",
              "<table border=\"1\" class=\"dataframe\">\n",
              "  <thead>\n",
              "    <tr style=\"text-align: right;\">\n",
              "      <th></th>\n",
              "      <th>customer_id</th>\n",
              "      <th>compras_por_usuario</th>\n",
              "    </tr>\n",
              "  </thead>\n",
              "  <tbody>\n",
              "    <tr>\n",
              "      <th>29300</th>\n",
              "      <td>a65f77281a528bf5c1e9f270141d601d116e1df33bf9df...</td>\n",
              "      <td>1346</td>\n",
              "    </tr>\n",
              "    <tr>\n",
              "      <th>23387</th>\n",
              "      <td>84c34f4f564db1f437943c77af41f83bf6fd7c01701cbb...</td>\n",
              "      <td>950</td>\n",
              "    </tr>\n",
              "    <tr>\n",
              "      <th>40316</th>\n",
              "      <td>e55d5ddb3a0c3fb1b4df8edbf526ba12989ab2a852c727...</td>\n",
              "      <td>910</td>\n",
              "    </tr>\n",
              "    <tr>\n",
              "      <th>8155</th>\n",
              "      <td>2df54f0d0653811fe06479c93905f3e6ecc6d07edf39d8...</td>\n",
              "      <td>875</td>\n",
              "    </tr>\n",
              "    <tr>\n",
              "      <th>28011</th>\n",
              "      <td>9f12a01e2982f70a820b5dd61528bf769b94c5c5e43b23...</td>\n",
              "      <td>789</td>\n",
              "    </tr>\n",
              "    <tr>\n",
              "      <th>33036</th>\n",
              "      <td>bbebb44478948f5052c3f4c5dc04f08653e7938886a856...</td>\n",
              "      <td>740</td>\n",
              "    </tr>\n",
              "    <tr>\n",
              "      <th>37241</th>\n",
              "      <td>d3b5f70ec21ad1718cf4951445e97007de0d4e85c39ea9...</td>\n",
              "      <td>724</td>\n",
              "    </tr>\n",
              "    <tr>\n",
              "      <th>30502</th>\n",
              "      <td>ad3090d52d11671ffb43bfaa85e3620eff669e8c92c911...</td>\n",
              "      <td>670</td>\n",
              "    </tr>\n",
              "    <tr>\n",
              "      <th>244</th>\n",
              "      <td>0152d53f51444891ea07013fd1fb8325415bb09bb6798a...</td>\n",
              "      <td>664</td>\n",
              "    </tr>\n",
              "    <tr>\n",
              "      <th>315</th>\n",
              "      <td>01a4717d38b651e46dda7f1ab8d1494af2682a847fa9a5...</td>\n",
              "      <td>651</td>\n",
              "    </tr>\n",
              "  </tbody>\n",
              "</table>\n",
              "</div>"
            ],
            "text/plain": [
              "                                             customer_id  compras_por_usuario\n",
              "29300  a65f77281a528bf5c1e9f270141d601d116e1df33bf9df...                 1346\n",
              "23387  84c34f4f564db1f437943c77af41f83bf6fd7c01701cbb...                  950\n",
              "40316  e55d5ddb3a0c3fb1b4df8edbf526ba12989ab2a852c727...                  910\n",
              "8155   2df54f0d0653811fe06479c93905f3e6ecc6d07edf39d8...                  875\n",
              "28011  9f12a01e2982f70a820b5dd61528bf769b94c5c5e43b23...                  789\n",
              "33036  bbebb44478948f5052c3f4c5dc04f08653e7938886a856...                  740\n",
              "37241  d3b5f70ec21ad1718cf4951445e97007de0d4e85c39ea9...                  724\n",
              "30502  ad3090d52d11671ffb43bfaa85e3620eff669e8c92c911...                  670\n",
              "244    0152d53f51444891ea07013fd1fb8325415bb09bb6798a...                  664\n",
              "315    01a4717d38b651e46dda7f1ab8d1494af2682a847fa9a5...                  651"
            ]
          },
          "execution_count": 17,
          "metadata": {},
          "output_type": "execute_result"
        }
      ],
      "source": [
        "agrupado_compras_por_usuario.head(10)"
      ]
    },
    {
      "cell_type": "markdown",
      "metadata": {},
      "source": [
        "Porcentaje de interacciones hechas por los 10 usuarios mas activos:"
      ]
    },
    {
      "cell_type": "code",
      "execution_count": 21,
      "metadata": {},
      "outputs": [
        {
          "data": {
            "text/plain": [
              "0.6309437763035447"
            ]
          },
          "execution_count": 21,
          "metadata": {},
          "output_type": "execute_result"
        }
      ],
      "source": [
        "# transfrom to percentage\n",
        "(agrupado_compras_por_usuario.head(10)['compras_por_usuario'].sum()/agrupado_compras_por_usuario[\"compras_por_usuario\"].sum())*100"
      ]
    },
    {
      "cell_type": "markdown",
      "metadata": {},
      "source": [
        "### Distribución del número de compras por usuario"
      ]
    },
    {
      "cell_type": "code",
      "execution_count": 41,
      "metadata": {},
      "outputs": [],
      "source": [
        "cantidad_usuario_por_numero_de_compras = agrupado_compras_por_usuario.groupby(['compras_por_usuario']).size().reset_index(name='cantidad_usuario_por_compras')\n",
        "cantidad_usuario_por_numero_de_compras['percentage'] = cantidad_usuario_por_numero_de_compras['cantidad_usuario_por_compras'] / cantidad_usuario_por_compras['cantidad_usuario_por_compras'].sum() * 100\n",
        "#cantidad_usuario_por_numero_de_compras"
      ]
    },
    {
      "cell_type": "code",
      "execution_count": 30,
      "metadata": {},
      "outputs": [],
      "source": [
        "def rango_compras_por_usuario(compras_por_usuario):\n",
        "    if compras_por_usuario == 2:\n",
        "        return 2\n",
        "    elif compras_por_usuario == 3:\n",
        "        return 3\n",
        "    elif compras_por_usuario == 4:\n",
        "        return 4\n",
        "    elif compras_por_usuario == 5:\n",
        "        return 5\n",
        "    elif compras_por_usuario == 6:\n",
        "        return 6\n",
        "    elif compras_por_usuario == 7:\n",
        "        return 7\n",
        "    elif compras_por_usuario == 8:\n",
        "        return 8\n",
        "    elif compras_por_usuario == 9:\n",
        "        return 9\n",
        "    else:\n",
        "        return 10\n",
        "    \n",
        "cantidad_usuario_por_numero_de_compras['rango'] = cantidad_usuario_por_numero_de_compras['compras_por_usuario'].apply(rango_compras_por_usuario)    "
      ]
    },
    {
      "cell_type": "code",
      "execution_count": 40,
      "metadata": {},
      "outputs": [],
      "source": [
        "cantidad_usuario_por_numero_de_compras_agrupado = cantidad_usuario_por_numero_de_compras.groupby(['rango']).sum().reset_index()"
      ]
    },
    {
      "cell_type": "code",
      "execution_count": 39,
      "metadata": {},
      "outputs": [
        {
          "data": {
            "image/png": "[encoded data removed]",
            "text/plain": [
              "<Figure size 640x480 with 1 Axes>"
            ]
          },
          "metadata": {},
          "output_type": "display_data"
        }
      ],
      "source": [
        "# Datos\n",
        "rango = cantidad_usuario_por_numero_de_compras_agrupado['rango']\n",
        "cantidad_usuarios = cantidad_usuario_por_numero_de_compras_agrupado['cantidad_usuario_por_compras']\n",
        "porcentaje = cantidad_usuario_por_numero_de_compras_agrupado['percentage']\n",
        "\n",
        "# Graficar\n",
        "plt.bar(rango, cantidad_usuarios)\n",
        "plt.xlabel('Cantidad de compras por usuario')\n",
        "plt.ylabel('Cantidad de usuarios')\n",
        "plt.title('Cantidad de usuarios por cantidad de compras')\n",
        "\n",
        "# Mostrar porcentaje encima de cada barra\n",
        "for i in range(len(rango)):\n",
        "    plt.text(rango[i], cantidad_usuarios[i] + 0.5, f'{round(porcentaje[i], 1)}%', ha='center')\n",
        "\n",
        "plt.show()\n"
      ]
    },
    {
      "cell_type": "code",
      "execution_count": null,
      "metadata": {},
      "outputs": [
        {
          "data": {
            "text/html": [
              "<div>\n",
              "<style scoped>\n",
              "    .dataframe tbody tr th:only-of-type {\n",
              "        vertical-align: middle;\n",
              "    }\n",
              "\n",
              "    .dataframe tbody tr th {\n",
              "        vertical-align: top;\n",
              "    }\n",
              "\n",
              "    .dataframe thead th {\n",
              "        text-align: right;\n",
              "    }\n",
              "</style>\n",
              "<table border=\"1\" class=\"dataframe\">\n",
              "  <thead>\n",
              "    <tr style=\"text-align: right;\">\n",
              "      <th></th>\n",
              "      <th>article_id</th>\n",
              "      <th>count</th>\n",
              "    </tr>\n",
              "  </thead>\n",
              "  <tbody>\n",
              "    <tr>\n",
              "      <th>0</th>\n",
              "      <td>108775015</td>\n",
              "      <td>550</td>\n",
              "    </tr>\n",
              "    <tr>\n",
              "      <th>1</th>\n",
              "      <td>108775044</td>\n",
              "      <td>359</td>\n",
              "    </tr>\n",
              "    <tr>\n",
              "      <th>2</th>\n",
              "      <td>108775051</td>\n",
              "      <td>10</td>\n",
              "    </tr>\n",
              "    <tr>\n",
              "      <th>3</th>\n",
              "      <td>110065001</td>\n",
              "      <td>48</td>\n",
              "    </tr>\n",
              "    <tr>\n",
              "      <th>4</th>\n",
              "      <td>110065002</td>\n",
              "      <td>26</td>\n",
              "    </tr>\n",
              "    <tr>\n",
              "      <th>...</th>\n",
              "      <td>...</td>\n",
              "      <td>...</td>\n",
              "    </tr>\n",
              "    <tr>\n",
              "      <th>73075</th>\n",
              "      <td>946748004</td>\n",
              "      <td>11</td>\n",
              "    </tr>\n",
              "    <tr>\n",
              "      <th>73076</th>\n",
              "      <td>946764003</td>\n",
              "      <td>4</td>\n",
              "    </tr>\n",
              "    <tr>\n",
              "      <th>73077</th>\n",
              "      <td>946827001</td>\n",
              "      <td>3</td>\n",
              "    </tr>\n",
              "    <tr>\n",
              "      <th>73078</th>\n",
              "      <td>947509001</td>\n",
              "      <td>3</td>\n",
              "    </tr>\n",
              "    <tr>\n",
              "      <th>73079</th>\n",
              "      <td>948152002</td>\n",
              "      <td>1</td>\n",
              "    </tr>\n",
              "  </tbody>\n",
              "</table>\n",
              "<p>73080 rows × 2 columns</p>\n",
              "</div>"
            ],
            "text/plain": [
              "       article_id  count\n",
              "0       108775015    550\n",
              "1       108775044    359\n",
              "2       108775051     10\n",
              "3       110065001     48\n",
              "4       110065002     26\n",
              "...           ...    ...\n",
              "73075   946748004     11\n",
              "73076   946764003      4\n",
              "73077   946827001      3\n",
              "73078   947509001      3\n",
              "73079   948152002      1\n",
              "\n",
              "[73080 rows x 2 columns]"
            ]
          },
          "execution_count": 57,
          "metadata": {},
          "output_type": "execute_result"
        }
      ],
      "source": [
        "agrupado_prod = df_transaction_train.groupby(['article_id']).size().reset_index(name='count')\n",
        "agrupado_prod"
      ]
    },
    {
      "cell_type": "code",
      "execution_count": null,
      "metadata": {},
      "outputs": [
        {
          "data": {
            "text/html": [
              "<div>\n",
              "<style scoped>\n",
              "    .dataframe tbody tr th:only-of-type {\n",
              "        vertical-align: middle;\n",
              "    }\n",
              "\n",
              "    .dataframe tbody tr th {\n",
              "        vertical-align: top;\n",
              "    }\n",
              "\n",
              "    .dataframe thead th {\n",
              "        text-align: right;\n",
              "    }\n",
              "</style>\n",
              "<table border=\"1\" class=\"dataframe\">\n",
              "  <thead>\n",
              "    <tr style=\"text-align: right;\">\n",
              "      <th></th>\n",
              "      <th>article_id</th>\n",
              "      <th>count</th>\n",
              "    </tr>\n",
              "  </thead>\n",
              "  <tbody>\n",
              "    <tr>\n",
              "      <th>36789</th>\n",
              "      <td>706016001</td>\n",
              "      <td>1978</td>\n",
              "    </tr>\n",
              "    <tr>\n",
              "      <th>36790</th>\n",
              "      <td>706016002</td>\n",
              "      <td>1357</td>\n",
              "    </tr>\n",
              "    <tr>\n",
              "      <th>14906</th>\n",
              "      <td>610776002</td>\n",
              "      <td>1302</td>\n",
              "    </tr>\n",
              "    <tr>\n",
              "      <th>1174</th>\n",
              "      <td>372860001</td>\n",
              "      <td>1225</td>\n",
              "    </tr>\n",
              "    <tr>\n",
              "      <th>49637</th>\n",
              "      <td>759871002</td>\n",
              "      <td>1010</td>\n",
              "    </tr>\n",
              "    <tr>\n",
              "      <th>1548</th>\n",
              "      <td>399223001</td>\n",
              "      <td>991</td>\n",
              "    </tr>\n",
              "    <tr>\n",
              "      <th>2540</th>\n",
              "      <td>464297007</td>\n",
              "      <td>920</td>\n",
              "    </tr>\n",
              "    <tr>\n",
              "      <th>8501</th>\n",
              "      <td>562245001</td>\n",
              "      <td>899</td>\n",
              "    </tr>\n",
              "    <tr>\n",
              "      <th>8514</th>\n",
              "      <td>562245046</td>\n",
              "      <td>849</td>\n",
              "    </tr>\n",
              "    <tr>\n",
              "      <th>1175</th>\n",
              "      <td>372860002</td>\n",
              "      <td>849</td>\n",
              "    </tr>\n",
              "  </tbody>\n",
              "</table>\n",
              "</div>"
            ],
            "text/plain": [
              "       article_id  count\n",
              "36789   706016001   1978\n",
              "36790   706016002   1357\n",
              "14906   610776002   1302\n",
              "1174    372860001   1225\n",
              "49637   759871002   1010\n",
              "1548    399223001    991\n",
              "2540    464297007    920\n",
              "8501    562245001    899\n",
              "8514    562245046    849\n",
              "1175    372860002    849"
            ]
          },
          "execution_count": 58,
          "metadata": {},
          "output_type": "execute_result"
        }
      ],
      "source": [
        "agrupado_prod = agrupado_prod.sort_values(by='count', ascending=False)\n",
        "agrupado_prod.head(10)"
      ]
    },
    {
      "cell_type": "code",
      "execution_count": null,
      "metadata": {
        "colab": {
          "base_uri": "https://localhost:8080/",
          "height": 206
        },
        "id": "AZ8ZFMkeuMHy",
        "outputId": "c850ac35-d679-4dc0-d9ac-da73d41338aa"
      },
      "outputs": [
        {
          "data": {
            "text/html": [
              "<div>\n",
              "<style scoped>\n",
              "    .dataframe tbody tr th:only-of-type {\n",
              "        vertical-align: middle;\n",
              "    }\n",
              "\n",
              "    .dataframe tbody tr th {\n",
              "        vertical-align: top;\n",
              "    }\n",
              "\n",
              "    .dataframe thead th {\n",
              "        text-align: right;\n",
              "    }\n",
              "</style>\n",
              "<table border=\"1\" class=\"dataframe\">\n",
              "  <thead>\n",
              "    <tr style=\"text-align: right;\">\n",
              "      <th></th>\n",
              "      <th>Unnamed: 0</th>\n",
              "      <th>customer_id</th>\n",
              "    </tr>\n",
              "  </thead>\n",
              "  <tbody>\n",
              "    <tr>\n",
              "      <th>0</th>\n",
              "      <td>0</td>\n",
              "      <td>1f293f035403ce2d1ff0cdb23cc3faf8b1c2ad04dbedbe...</td>\n",
              "    </tr>\n",
              "    <tr>\n",
              "      <th>1</th>\n",
              "      <td>1</td>\n",
              "      <td>b4ba419fd5afc5eb274ab3ae1638a51a2e916b4deb0a5c...</td>\n",
              "    </tr>\n",
              "    <tr>\n",
              "      <th>2</th>\n",
              "      <td>2</td>\n",
              "      <td>1a1563c28f0d8781ad87f76e0a5af0485003e350f541dd...</td>\n",
              "    </tr>\n",
              "    <tr>\n",
              "      <th>3</th>\n",
              "      <td>3</td>\n",
              "      <td>3219f007e898957cbe0ff0f22010cd7118c06f7498a167...</td>\n",
              "    </tr>\n",
              "    <tr>\n",
              "      <th>4</th>\n",
              "      <td>4</td>\n",
              "      <td>4e5c03f7ffefe2f99f8e0c9d9805c1571867e6a8dd7091...</td>\n",
              "    </tr>\n",
              "  </tbody>\n",
              "</table>\n",
              "</div>"
            ],
            "text/plain": [
              "   Unnamed: 0                                        customer_id\n",
              "0           0  1f293f035403ce2d1ff0cdb23cc3faf8b1c2ad04dbedbe...\n",
              "1           1  b4ba419fd5afc5eb274ab3ae1638a51a2e916b4deb0a5c...\n",
              "2           2  1a1563c28f0d8781ad87f76e0a5af0485003e350f541dd...\n",
              "3           3  3219f007e898957cbe0ff0f22010cd7118c06f7498a167...\n",
              "4           4  4e5c03f7ffefe2f99f8e0c9d9805c1571867e6a8dd7091..."
            ]
          },
          "execution_count": 59,
          "metadata": {},
          "output_type": "execute_result"
        }
      ],
      "source": [
        "df_users_test.head()"
      ]
    },
    {
      "cell_type": "code",
      "execution_count": null,
      "metadata": {
        "colab": {
          "base_uri": "https://localhost:8080/",
          "height": 206
        },
        "id": "LCljwoeOvJaP",
        "outputId": "3354675b-ffa9-443a-dad6-76b053834417"
      },
      "outputs": [
        {
          "data": {
            "text/html": [
              "<div>\n",
              "<style scoped>\n",
              "    .dataframe tbody tr th:only-of-type {\n",
              "        vertical-align: middle;\n",
              "    }\n",
              "\n",
              "    .dataframe tbody tr th {\n",
              "        vertical-align: top;\n",
              "    }\n",
              "\n",
              "    .dataframe thead th {\n",
              "        text-align: right;\n",
              "    }\n",
              "</style>\n",
              "<table border=\"1\" class=\"dataframe\">\n",
              "  <thead>\n",
              "    <tr style=\"text-align: right;\">\n",
              "      <th></th>\n",
              "      <th>Unnamed: 0</th>\n",
              "      <th>t_dat</th>\n",
              "      <th>customer_id</th>\n",
              "      <th>article_id</th>\n",
              "      <th>price</th>\n",
              "      <th>sales_channel_id</th>\n",
              "    </tr>\n",
              "  </thead>\n",
              "  <tbody>\n",
              "    <tr>\n",
              "      <th>0</th>\n",
              "      <td>0</td>\n",
              "      <td>2018-11-28</td>\n",
              "      <td>1f293f035403ce2d1ff0cdb23cc3faf8b1c2ad04dbedbe...</td>\n",
              "      <td>655265001</td>\n",
              "      <td>0.025407</td>\n",
              "      <td>2</td>\n",
              "    </tr>\n",
              "    <tr>\n",
              "      <th>1</th>\n",
              "      <td>1</td>\n",
              "      <td>2018-11-28</td>\n",
              "      <td>1f293f035403ce2d1ff0cdb23cc3faf8b1c2ad04dbedbe...</td>\n",
              "      <td>537688014</td>\n",
              "      <td>0.050831</td>\n",
              "      <td>2</td>\n",
              "    </tr>\n",
              "    <tr>\n",
              "      <th>2</th>\n",
              "      <td>2</td>\n",
              "      <td>2019-03-28</td>\n",
              "      <td>1f293f035403ce2d1ff0cdb23cc3faf8b1c2ad04dbedbe...</td>\n",
              "      <td>698877002</td>\n",
              "      <td>0.042356</td>\n",
              "      <td>2</td>\n",
              "    </tr>\n",
              "    <tr>\n",
              "      <th>3</th>\n",
              "      <td>3</td>\n",
              "      <td>2019-03-28</td>\n",
              "      <td>1f293f035403ce2d1ff0cdb23cc3faf8b1c2ad04dbedbe...</td>\n",
              "      <td>382127027</td>\n",
              "      <td>0.032186</td>\n",
              "      <td>2</td>\n",
              "    </tr>\n",
              "    <tr>\n",
              "      <th>4</th>\n",
              "      <td>4</td>\n",
              "      <td>2019-03-28</td>\n",
              "      <td>1f293f035403ce2d1ff0cdb23cc3faf8b1c2ad04dbedbe...</td>\n",
              "      <td>610776001</td>\n",
              "      <td>0.008458</td>\n",
              "      <td>2</td>\n",
              "    </tr>\n",
              "  </tbody>\n",
              "</table>\n",
              "</div>"
            ],
            "text/plain": [
              "   Unnamed: 0       t_dat                                        customer_id  \\\n",
              "0           0  2018-11-28  1f293f035403ce2d1ff0cdb23cc3faf8b1c2ad04dbedbe...   \n",
              "1           1  2018-11-28  1f293f035403ce2d1ff0cdb23cc3faf8b1c2ad04dbedbe...   \n",
              "2           2  2019-03-28  1f293f035403ce2d1ff0cdb23cc3faf8b1c2ad04dbedbe...   \n",
              "3           3  2019-03-28  1f293f035403ce2d1ff0cdb23cc3faf8b1c2ad04dbedbe...   \n",
              "4           4  2019-03-28  1f293f035403ce2d1ff0cdb23cc3faf8b1c2ad04dbedbe...   \n",
              "\n",
              "   article_id     price  sales_channel_id  \n",
              "0   655265001  0.025407                 2  \n",
              "1   537688014  0.050831                 2  \n",
              "2   698877002  0.042356                 2  \n",
              "3   382127027  0.032186                 2  \n",
              "4   610776001  0.008458                 2  "
            ]
          },
          "execution_count": 60,
          "metadata": {},
          "output_type": "execute_result"
        }
      ],
      "source": [
        "df_transaction_train.head()"
      ]
    },
    {
      "cell_type": "code",
      "execution_count": null,
      "metadata": {},
      "outputs": [
        {
          "data": {
            "image/png": "[encoded data removed]",
            "text/plain": [
              "<Figure size 1000x600 with 1 Axes>"
            ]
          },
          "metadata": {},
          "output_type": "display_data"
        }
      ],
      "source": [
        "# Graficar la distribución de interacciones por producto\n",
        "plt.figure(figsize=(10, 6))\n",
        "plt.hist(agrupado_prod['count'], bins=30, color='skyblue', edgecolor='black')\n",
        "plt.xlabel('Número de interacciones por producto')\n",
        "plt.ylabel('Frecuencia')\n",
        "plt.title('Distribución de interacciones por producto')\n",
        "plt.grid(True)\n",
        "plt.show()"
      ]
    }
  ],
  "metadata": {
    "colab": {
      "provenance": []
    },
    "kernelspec": {
      "display_name": "Python 3",
      "name": "python3"
    },
    "language_info": {
      "codemirror_mode": {
        "name": "ipython",
        "version": 3
      },
      "file_extension": ".py",
      "mimetype": "text/x-python",
      "name": "python",
      "nbconvert_exporter": "python",
      "pygments_lexer": "ipython3",
      "version": "3.10.5"
    }
  },
  "nbformat": 4,
  "nbformat_minor": 0
}
